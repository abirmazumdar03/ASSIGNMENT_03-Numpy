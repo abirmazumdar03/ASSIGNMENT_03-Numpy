{
  "cells": [
    {
      "cell_type": "code",
      "execution_count": 1,
      "id": "196d9181-60d5-4c52-849d-beda8d4ba7f8",
      "metadata": {
        "id": "196d9181-60d5-4c52-849d-beda8d4ba7f8"
      },
      "outputs": [],
      "source": [
        "import numpy as np\n",
        "import pandas as pd\n",
        "import random as ra\n",
        "import numpy.matlib as nm\n",
        "import numpy.linalg as na"
      ]
    },
    {
      "cell_type": "markdown",
      "source": [
        "**Q1. Create a NumPy array 'arr' of integers from 0 to 5 and print its data type.**"
      ],
      "metadata": {
        "id": "U8UY8bQwjpQq"
      },
      "id": "U8UY8bQwjpQq"
    },
    {
      "cell_type": "code",
      "source": [
        "arr=np.array((range(6)))\n",
        "print(f\"Numpy Array : {arr} \\nData Type of Numpy Array {arr.dtype}\")"
      ],
      "metadata": {
        "colab": {
          "base_uri": "https://localhost:8080/"
        },
        "id": "MIcmMdZw_4YU",
        "outputId": "0681f57a-0224-412c-cc6b-1c3f95a3a406"
      },
      "id": "MIcmMdZw_4YU",
      "execution_count": 12,
      "outputs": [
        {
          "output_type": "stream",
          "name": "stdout",
          "text": [
            "Numpy Array : [0 1 2 3 4 5] \n",
            "Data Type of Numpy Array int64\n"
          ]
        }
      ]
    },
    {
      "cell_type": "markdown",
      "source": [
        "**Q2. Given a NumPy array 'arr', check if its data type is float64.**"
      ],
      "metadata": {
        "id": "QzyRTXgOAHFx"
      },
      "id": "QzyRTXgOAHFx"
    },
    {
      "cell_type": "code",
      "source": [
        "arr = np.array ([1.5, 2.6, 3.7])\n",
        "if(arr.dtype==np.float64):\n",
        "  print(\"The Numpy Array is of float64 type\")\n",
        "else:\n",
        "  print(\"The Numpy Array is NOT of float64 type\")"
      ],
      "metadata": {
        "colab": {
          "base_uri": "https://localhost:8080/"
        },
        "id": "MAC_WUXf_3Vb",
        "outputId": "31f2e0b5-bc4e-453f-c472-f26d73688885"
      },
      "id": "MAC_WUXf_3Vb",
      "execution_count": 8,
      "outputs": [
        {
          "output_type": "stream",
          "name": "stdout",
          "text": [
            "The Numpy Array is of float64 type\n"
          ]
        }
      ]
    },
    {
      "cell_type": "markdown",
      "source": [
        "**Q3. Create a NumPy array 'arr' with a data type of complex128 containing three complex numbers.**"
      ],
      "metadata": {
        "id": "LmRCKmruAPvx"
      },
      "id": "LmRCKmruAPvx"
    },
    {
      "cell_type": "code",
      "source": [
        "arr=np.array((5+6j,2+9j,4+7j),dtype=np.complex128)  # assigning dtype to to be complex128\n",
        "print(f\"Numpy Array of Complex128 datatype ---> {arr}\")"
      ],
      "metadata": {
        "colab": {
          "base_uri": "https://localhost:8080/"
        },
        "id": "aXNf9kvG_3K-",
        "outputId": "881a6a48-ccc2-4fe1-ca01-b556e936ba03"
      },
      "id": "aXNf9kvG_3K-",
      "execution_count": 6,
      "outputs": [
        {
          "output_type": "stream",
          "name": "stdout",
          "text": [
            "Numpy Array of Complex128 datatype ---> [5.+6.j 2.+9.j 4.+7.j]\n"
          ]
        }
      ]
    },
    {
      "cell_type": "markdown",
      "source": [
        "**Q4. Convert an existing NumPy array 'arr' of integers to float32 data type.**"
      ],
      "metadata": {
        "id": "Oz67YPA9AR41"
      },
      "id": "Oz67YPA9AR41"
    },
    {
      "cell_type": "code",
      "source": [
        "arr=np.array(tuple(range(6)),dtype=np.int32)\n",
        "print(f\"Numpy Array of int32 type --> {arr}\")\n",
        "print(f\"Numpy Array of float32 type --> {arr.astype(np.float32)}\")"
      ],
      "metadata": {
        "colab": {
          "base_uri": "https://localhost:8080/"
        },
        "id": "Dt9A88w8_3AE",
        "outputId": "5008f780-fc3c-4cc9-fd8e-cf43e219dd0c"
      },
      "id": "Dt9A88w8_3AE",
      "execution_count": 7,
      "outputs": [
        {
          "output_type": "stream",
          "name": "stdout",
          "text": [
            "Numpy Array of int32 type --> [0 1 2 3 4 5]\n",
            "Numpy Array of float32 type --> [0. 1. 2. 3. 4. 5.]\n"
          ]
        }
      ]
    },
    {
      "cell_type": "markdown",
      "source": [
        "**Q5. Given a NumPy array 'arr' with float64 data type, convert it to float32 to reduce decimal precision.**"
      ],
      "metadata": {
        "id": "WF4zxo41AgV4"
      },
      "id": "WF4zxo41AgV4"
    },
    {
      "cell_type": "code",
      "source": [
        "arr=np.array(tuple(range(6)),dtype=np.float64)\n",
        "print(f\"Before Changing the DataType ---> {arr.dtype}\")\n",
        "arr=arr.astype(np.float32)\n",
        "print(f\"After Changing the DataType ---> {arr.dtype}\")"
      ],
      "metadata": {
        "colab": {
          "base_uri": "https://localhost:8080/"
        },
        "id": "H0wyo38e_zNA",
        "outputId": "d629151f-2b6f-488c-bff9-0f11ed177bb5"
      },
      "id": "H0wyo38e_zNA",
      "execution_count": 5,
      "outputs": [
        {
          "output_type": "stream",
          "name": "stdout",
          "text": [
            "Before Changing the DataType ---> float64\n",
            "After Changing the DataType ---> float32\n"
          ]
        }
      ]
    },
    {
      "cell_type": "markdown",
      "source": [
        "**Q6. Write a function array_attributes that takes a NumPy array as input and returns its shape, size, and DataType**"
      ],
      "metadata": {
        "id": "sZ1xr66ZAn11"
      },
      "id": "sZ1xr66ZAn11"
    },
    {
      "cell_type": "code",
      "source": [
        "def array_attributes(my_arr):\n",
        "  return({'shape':str(my_arr.shape),'size':str(my_arr.size),'Data_Type':str(my_arr.dtype)})\n",
        "\n",
        "arr=np.random.randint(low=4,high=12,size=(3,4))\n",
        "print(f\"MetaData of the Array ---> \\n {arr} : \\n {array_attributes(arr)}\")"
      ],
      "metadata": {
        "colab": {
          "base_uri": "https://localhost:8080/"
        },
        "id": "gtsppEZS_zDh",
        "outputId": "4d2641bf-0287-4f74-835c-f88388a7d451"
      },
      "id": "gtsppEZS_zDh",
      "execution_count": 4,
      "outputs": [
        {
          "output_type": "stream",
          "name": "stdout",
          "text": [
            "MetaData of the Array ---> \n",
            " [[ 9 11 11  7]\n",
            " [ 6 11  4  4]\n",
            " [10  9  8 11]] : \n",
            " {'shape': '(3, 4)', 'size': '12', 'Data_Type': 'int64'}\n"
          ]
        }
      ]
    },
    {
      "cell_type": "markdown",
      "source": [
        "**Q7. Create a function array_dimension that takes a NumPy array as input and returns its dimensionality**"
      ],
      "metadata": {
        "id": "lXkp3NYKAqlE"
      },
      "id": "lXkp3NYKAqlE"
    },
    {
      "cell_type": "code",
      "source": [
        "def array_dimension(arr):\n",
        "  return(arr.ndim)\n",
        "arr=np.random.randint(low=4,high=12,size=(3,4))\n",
        "print(f\"The dimesonality of the Array : \\n {arr} \\n is = {array_dimension(arr)}D\")"
      ],
      "metadata": {
        "colab": {
          "base_uri": "https://localhost:8080/"
        },
        "id": "UyzsZzKR_y4h",
        "outputId": "8a7b91d3-e470-47aa-a7bf-3e1282487691"
      },
      "id": "UyzsZzKR_y4h",
      "execution_count": 3,
      "outputs": [
        {
          "output_type": "stream",
          "name": "stdout",
          "text": [
            "The dimesonality of the Array : \n",
            " [[ 9  6  8 11]\n",
            " [11 10  7  4]\n",
            " [11  6 11  5]] \n",
            " is = 2D\n"
          ]
        }
      ]
    },
    {
      "cell_type": "markdown",
      "source": [
        "**Q8 Design a function item_size_info that takes a NumPy array as input and returns the item size and the total size in bytes.**"
      ],
      "metadata": {
        "id": "51T1Tju2BPCx"
      },
      "id": "51T1Tju2BPCx"
    },
    {
      "cell_type": "code",
      "execution_count": 13,
      "id": "6b21184a-f567-4c33-943a-74fa007413e7",
      "metadata": {
        "colab": {
          "base_uri": "https://localhost:8080/"
        },
        "id": "6b21184a-f567-4c33-943a-74fa007413e7",
        "outputId": "6da03e10-3e7c-4ec5-9533-b5670e5ef566"
      },
      "outputs": [
        {
          "output_type": "stream",
          "name": "stdout",
          "text": [
            "{'size': 36, 'Total Size in Bytes': 288}\n"
          ]
        }
      ],
      "source": [
        "# Q8\n",
        "def item_size(arr):\n",
        "    return({'size':arr.size,'Total Size in Bytes':arr.nbytes})\n",
        "    # Altenative method --> arr.itemsize*arr.size  (size of 1 element x the total numbers of elemnts)\n",
        "\n",
        "arr=np.random.randint(4,10,size=(4,9))\n",
        "print(f\"{item_size(arr)}\")"
      ]
    },
    {
      "cell_type": "markdown",
      "source": [
        "**Q9. Create a function array_strides that takes a NumPy array as input and returns the strides of the array.**"
      ],
      "metadata": {
        "id": "G0K97ZNjCtJi"
      },
      "id": "G0K97ZNjCtJi"
    },
    {
      "cell_type": "code",
      "execution_count": 10,
      "id": "57d5a7d4-f8f6-4787-9869-df14a8402916",
      "metadata": {
        "colab": {
          "base_uri": "https://localhost:8080/"
        },
        "id": "57d5a7d4-f8f6-4787-9869-df14a8402916",
        "outputId": "808fce89-8570-4f8a-954b-b64e17ca9409"
      },
      "outputs": [
        {
          "output_type": "stream",
          "name": "stdout",
          "text": [
            "Stride of the Array \n",
            " [[9 5 6 8 5 6 7 6 9]\n",
            " [9 9 8 4 8 6 6 5 6]\n",
            " [4 5 8 7 9 7 4 9 7]\n",
            " [8 4 6 5 4 8 5 5 8]] \n",
            " In Bytes --> (72, 8)\n"
          ]
        }
      ],
      "source": [
        "# Q9\n",
        "def array_strides(arr):\n",
        "    return(arr.strides)\n",
        "\n",
        "arr=np.random.randint(4,10,size=(4,9))\n",
        "print(f\"Stride of the Array \\n {arr} \\n In Bytes --> {array_strides(arr)}\")"
      ]
    },
    {
      "cell_type": "markdown",
      "source": [
        "**Q10. Design a function shape_stride_relationship that takes a NumPy array as input and returns the shape and strides of the array.**"
      ],
      "metadata": {
        "id": "BLjY8GhNC1oz"
      },
      "id": "BLjY8GhNC1oz"
    },
    {
      "cell_type": "code",
      "execution_count": 14,
      "id": "54b59055-254e-4a7a-955c-b2bca447272f",
      "metadata": {
        "colab": {
          "base_uri": "https://localhost:8080/"
        },
        "id": "54b59055-254e-4a7a-955c-b2bca447272f",
        "outputId": "cee39ecb-53fb-425d-e328-5601618872c7"
      },
      "outputs": [
        {
          "output_type": "stream",
          "name": "stdout",
          "text": [
            "{'Shape of Array': (4, 9), 'Stride of the Array': (72, 8)}\n"
          ]
        }
      ],
      "source": [
        "# Q10\n",
        "def shape_stride_relationship(arr):\n",
        "    return({'Shape of Array':arr.shape,'Stride of the Array':arr.strides})\n",
        "\n",
        "\n",
        "arr=np.random.randint(4,10,size=(4,9))\n",
        "print(f\"{shape_stride_relationship(arr)}\")"
      ]
    },
    {
      "cell_type": "markdown",
      "source": [
        "**Q11. Create a function create_zeros_array that takes an integer `n`as input and returns a NumPy array of zeros with 'n'elements.**"
      ],
      "metadata": {
        "id": "tReV3StmC2Wt"
      },
      "id": "tReV3StmC2Wt"
    },
    {
      "cell_type": "code",
      "execution_count": 24,
      "id": "ab4934a1-d075-4ac0-a394-35dc74039ab2",
      "metadata": {
        "colab": {
          "base_uri": "https://localhost:8080/"
        },
        "id": "ab4934a1-d075-4ac0-a394-35dc74039ab2",
        "outputId": "fd04825d-8d79-4f88-bada-37b77e8adb4e"
      },
      "outputs": [
        {
          "output_type": "stream",
          "name": "stdout",
          "text": [
            "Zero filled Array \n",
            " [0. 0. 0. 0. 0. 0. 0. 0. 0. 0. 0. 0.]\n"
          ]
        }
      ],
      "source": [
        "# Q11\n",
        "\n",
        "def create_zeros_arrays(n):\n",
        "    return(np.zeros(n))  # return an Numpy array of n elemnts filled with Zero's\n",
        "\n",
        "print(f\"Zero filled Array \\n {create_zeros_arrays(12)}\")"
      ]
    },
    {
      "cell_type": "markdown",
      "source": [
        "**Q12. Write a function create_ones_matrix that takes integers `rows` and `cols` as inputs and generates a 2D NumPy array filled with ones of size `rows x cols**"
      ],
      "metadata": {
        "id": "Ti26dI02DEcu"
      },
      "id": "Ti26dI02DEcu"
    },
    {
      "cell_type": "code",
      "execution_count": 23,
      "id": "932725dc-eb24-45ff-90d2-edf38f6591bb",
      "metadata": {
        "colab": {
          "base_uri": "https://localhost:8080/"
        },
        "id": "932725dc-eb24-45ff-90d2-edf38f6591bb",
        "outputId": "db711fb0-2452-4093-b5c1-4ae3fde06071"
      },
      "outputs": [
        {
          "output_type": "stream",
          "name": "stdout",
          "text": [
            "Ones filled Matrix \n",
            " [[1. 1. 1. 1. 1.]\n",
            " [1. 1. 1. 1. 1.]]\n"
          ]
        }
      ],
      "source": [
        "# Q12\n",
        "def create_ones_matrix(row,col):\n",
        "    return(np.ones((row,col)))  # returns a matrix filled with 1's\n",
        "\n",
        "print(f\"Ones filled Matrix \\n {create_ones_matrix(row=2,col=5)}\")"
      ]
    },
    {
      "cell_type": "markdown",
      "source": [
        "**Q13. Write a function 'generate_range_array' that takes three integers start, stop, and step as arguments and creates a NumPy array with a range starting from 'start', ending at stop (exclusive), and with the specified step'.**"
      ],
      "metadata": {
        "id": "9Xw1b7cvDFPL"
      },
      "id": "9Xw1b7cvDFPL"
    },
    {
      "cell_type": "code",
      "execution_count": 22,
      "id": "ea5b5747-622c-4037-b8dc-1cad7b1bf9a2",
      "metadata": {
        "colab": {
          "base_uri": "https://localhost:8080/"
        },
        "id": "ea5b5747-622c-4037-b8dc-1cad7b1bf9a2",
        "outputId": "e327435d-493d-462d-f292-24bd756f639b"
      },
      "outputs": [
        {
          "output_type": "stream",
          "name": "stdout",
          "text": [
            "Ranged Numpy Array  \n",
            " [2 4 6 8]\n"
          ]
        }
      ],
      "source": [
        "# Q13\n",
        "def generate_range_array(start,stop,step=1):\n",
        "    return(np.arange(start,stop,step))\n",
        "\n",
        "print(f\"Ranged Numpy Array  \\n {generate_range_array(start=2,stop=10,step=2)}\")"
      ]
    },
    {
      "cell_type": "markdown",
      "source": [
        "**Q14. Design a function 'generate_linear_space' that takes two floats 'start', 'stop', and an integer 'num' as arguments and generates a NumPy array with num equally spaced values between 'start' and `stop (inclusive).**"
      ],
      "metadata": {
        "id": "NUSd7q4GDGWM"
      },
      "id": "NUSd7q4GDGWM"
    },
    {
      "cell_type": "code",
      "execution_count": 21,
      "id": "6e784694-5aec-4ae6-91b8-f9a02bc395d8",
      "metadata": {
        "colab": {
          "base_uri": "https://localhost:8080/"
        },
        "id": "6e784694-5aec-4ae6-91b8-f9a02bc395d8",
        "outputId": "4a2b8ce8-4510-43d9-b660-c6b137f12b4b"
      },
      "outputs": [
        {
          "output_type": "stream",
          "name": "stdout",
          "text": [
            "Line_spaced array : \n",
            " [ 3.          3.77777778  4.55555556  5.33333333  6.11111111  6.88888889\n",
            "  7.66666667  8.44444444  9.22222222 10.        ]\n"
          ]
        }
      ],
      "source": [
        "# Q14\n",
        "def generate_linear_space(num,start,stop):\n",
        "    return np.linspace(start,stop,num)  # creating ecenly spaced intervals array\n",
        "\n",
        "print(f\"Line_spaced array : \\n {generate_linear_space(10,3,10)}\")\n"
      ]
    },
    {
      "cell_type": "markdown",
      "source": [
        "**Q15. Create a function create_identity_matrix` that takes an integer `n` as input and generates a square identity matrix of size `n x n' using numpy.eye**"
      ],
      "metadata": {
        "id": "3A_BnvNnDHH2"
      },
      "id": "3A_BnvNnDHH2"
    },
    {
      "cell_type": "code",
      "execution_count": 20,
      "id": "43da586e-694f-417d-ad18-b0662982f2e8",
      "metadata": {
        "colab": {
          "base_uri": "https://localhost:8080/"
        },
        "id": "43da586e-694f-417d-ad18-b0662982f2e8",
        "outputId": "06af8cfb-851f-4cd4-fa05-647e87dae8ae"
      },
      "outputs": [
        {
          "output_type": "stream",
          "name": "stdout",
          "text": [
            "Identity Matrix : \n",
            " [[1. 0. 0. 0. 0. 0. 0.]\n",
            " [0. 1. 0. 0. 0. 0. 0.]\n",
            " [0. 0. 1. 0. 0. 0. 0.]\n",
            " [0. 0. 0. 1. 0. 0. 0.]\n",
            " [0. 0. 0. 0. 1. 0. 0.]\n",
            " [0. 0. 0. 0. 0. 1. 0.]\n",
            " [0. 0. 0. 0. 0. 0. 1.]]\n"
          ]
        }
      ],
      "source": [
        "#Q15\n",
        "\n",
        "def create_identity_matrix(n):\n",
        "    return(np.eye(n,k=0))  # creating identity matrix using eye function\n",
        "print(f\"Identity Matrix : \\n {create_identity_matrix(7)}\")"
      ]
    },
    {
      "cell_type": "markdown",
      "source": [
        "**Q 16. Write a function that takes a Python list and converts it into a NumPy array.**"
      ],
      "metadata": {
        "id": "EBe7jVuEDI2W"
      },
      "id": "EBe7jVuEDI2W"
    },
    {
      "cell_type": "code",
      "execution_count": 19,
      "id": "a0cf202b-310c-4257-888e-2f57d6ad420b",
      "metadata": {
        "colab": {
          "base_uri": "https://localhost:8080/"
        },
        "id": "a0cf202b-310c-4257-888e-2f57d6ad420b",
        "outputId": "4da69af6-f637-4180-bf2a-26c7c12edfdf"
      },
      "outputs": [
        {
          "output_type": "stream",
          "name": "stdout",
          "text": [
            "List version ---> [45, 23, 96, 45, 85, 12, 20, 3.3, 45, 69] \n",
            " Array Version : \n",
            " [45.  23.  96.  45.  85.  12.  20.   3.3 45.  69. ]\n"
          ]
        }
      ],
      "source": [
        "# Q16\n",
        "import copy\n",
        "\n",
        "def List_to_Numpyarray(lst):\n",
        "    return(np.asarray(lst,dtype=np.float32))\n",
        "\n",
        "my_lst=[45,23,96,45,85,12,20,3.3,45,69]\n",
        "print(f\"List version ---> {my_lst} \\n Array Version : \\n {List_to_Numpyarray(copy.deepcopy(my_lst))}\")"
      ]
    },
    {
      "cell_type": "markdown",
      "source": [
        "**Q17. Create a NumPy array and demonstrate the use of `numpy.view' to create a new array object with the same data.**"
      ],
      "metadata": {
        "id": "r76iqECADJqM"
      },
      "id": "r76iqECADJqM"
    },
    {
      "cell_type": "code",
      "execution_count": 18,
      "id": "4f830b30-6b07-41f8-b853-c02a332acf8d",
      "metadata": {
        "colab": {
          "base_uri": "https://localhost:8080/"
        },
        "id": "4f830b30-6b07-41f8-b853-c02a332acf8d",
        "outputId": "15da023a-e96b-4a3f-ef2a-bce7dea59284"
      },
      "outputs": [
        {
          "output_type": "stream",
          "name": "stdout",
          "text": [
            "New_Array_Object : [45 23 96 45 85 12 20  3 45 69]\n"
          ]
        }
      ],
      "source": [
        "# Q17\n",
        "\n",
        "x=np.array([45,23,96,45,85,12,20,3.3,45,69],dtype=np.int16)\n",
        "new_array=x.view()\n",
        "print(f\"New_Array_Object : {new_array}\")"
      ]
    },
    {
      "cell_type": "markdown",
      "source": [
        "**Q18. Write a function that takes two NumPy arrays and concatenates them along a specified axis.**"
      ],
      "metadata": {
        "id": "7WjVU6z-DKQr"
      },
      "id": "7WjVU6z-DKQr"
    },
    {
      "cell_type": "code",
      "execution_count": 17,
      "id": "373f1c91-defd-437d-92d0-a8c928fe294a",
      "metadata": {
        "colab": {
          "base_uri": "https://localhost:8080/"
        },
        "id": "373f1c91-defd-437d-92d0-a8c928fe294a",
        "outputId": "afa49005-a337-4dea-84af-13805efdbfa7"
      },
      "outputs": [
        {
          "output_type": "stream",
          "name": "stdout",
          "text": [
            "Array 1 : \n",
            " [[9 4]\n",
            " [4 4]\n",
            " [9 4]] ,\n",
            " Array 2 : \n",
            " [[8 6]\n",
            " [7 6]\n",
            " [5 9]] , \n",
            "  Concatinate Along Horizontal Axis : \n",
            " [[9 4 8 6]\n",
            " [4 4 7 6]\n",
            " [9 4 5 9]]\n"
          ]
        }
      ],
      "source": [
        "# Q18\n",
        "\n",
        "def concatinate_axis(arr1,arr2):  #dunction to concatinate two arrays along the Horizontal Axis i.e axis=1\n",
        "    return(np.hstack((arr1,arr2)))\n",
        "\n",
        "arr1=np.random.randint(low=4,high=10,size=(3,2))\n",
        "arr2=np.random.randint(low=4,high=10,size=(3,2))\n",
        "\n",
        "print(f\"Array 1 : \\n {arr1} ,\\n Array 2 : \\n {arr2} , \\n  Concatinate Along Horizontal Axis : \\n {concatinate_axis(arr1,arr2)}\")"
      ]
    },
    {
      "cell_type": "markdown",
      "source": [
        "**Q19. Create two NumPy arrays with different shapes and concatenate them horizontally using numpy. concatenate`.**"
      ],
      "metadata": {
        "id": "sg1vIuRpDK--"
      },
      "id": "sg1vIuRpDK--"
    },
    {
      "cell_type": "code",
      "execution_count": 16,
      "id": "247f5170-778d-47ca-a8b9-ad72d84bbb10",
      "metadata": {
        "colab": {
          "base_uri": "https://localhost:8080/"
        },
        "id": "247f5170-778d-47ca-a8b9-ad72d84bbb10",
        "outputId": "d5551a5c-03f6-4c97-dc22-aeee13c183ac"
      },
      "outputs": [
        {
          "output_type": "stream",
          "name": "stdout",
          "text": [
            "Array 1 : \n",
            "[[5 5]\n",
            " [6 6]\n",
            " [7 4]]\n",
            "\n",
            "Array 2 : [[6 4 4]\n",
            " [4 9 8]]\n",
            "\n",
            "Horizontally Concatined Array : \n",
            " [[5 5 6 4]\n",
            " [6 6 4 9]\n",
            " [7 4 4 8]]\n"
          ]
        }
      ],
      "source": [
        "# Q19\n",
        "arr1=np.random.randint(low=4,high=10,size=(3,2))\n",
        "arr2=np.random.randint(low=4,high=10,size=(2,3))\n",
        "print(f\"Array 1 : \\n{arr1}\")\n",
        "print(f\"\\nArray 2 : {arr2}\")\n",
        "\n",
        "print(f\"\\nHorizontally Concatined Array : \\n {np.hstack((arr1,arr2.T))}\")"
      ]
    },
    {
      "cell_type": "markdown",
      "source": [
        "**Q20. Write a function that vertically stacks multiple NumPy arrays given as a list.**"
      ],
      "metadata": {
        "id": "FkGfjGTTDMeW"
      },
      "id": "FkGfjGTTDMeW"
    },
    {
      "cell_type": "code",
      "execution_count": 25,
      "id": "cf509a3c-4c1e-4357-a1e2-5b6cb0e23314",
      "metadata": {
        "colab": {
          "base_uri": "https://localhost:8080/"
        },
        "id": "cf509a3c-4c1e-4357-a1e2-5b6cb0e23314",
        "outputId": "560247df-7939-48a7-c65e-06df47d06136"
      },
      "outputs": [
        {
          "output_type": "stream",
          "name": "stdout",
          "text": [
            "Multiple List's : ([45, 20, 36, 89], [45, 78, 20, 36], [13, 79, 39])\n",
            "\n",
            "Vertical Stacked Array of list : \n",
            " [[45 20 36 89]\n",
            " [45 78 20 36]\n",
            " [13 79 39 42]]\n"
          ]
        }
      ],
      "source": [
        "#Q20\n",
        "def vertical_Stack_Array(*args):\n",
        "    return(np.vstack(args))  #stacking of all the lists\n",
        "\n",
        "print(f\"Multiple List's : {([45,20,36,89],[45,78,20,36],[13,79,39])}\")\n",
        "print(f\"\\nVertical Stacked Array of list : \\n {vertical_Stack_Array([45,20,36,89],[45,78,20,36],[13,79,39,42])}\")  # sendimng multiple lists as arguments"
      ]
    },
    {
      "cell_type": "markdown",
      "source": [
        "**Q21. Write a Python function using NumPy to create an array of integers within a specified range (inclusive) with a given step size.**"
      ],
      "metadata": {
        "id": "quN9fqlUEMbp"
      },
      "id": "quN9fqlUEMbp"
    },
    {
      "cell_type": "code",
      "execution_count": 26,
      "id": "de287571-f7d0-4460-8673-b213045065fa",
      "metadata": {
        "colab": {
          "base_uri": "https://localhost:8080/"
        },
        "id": "de287571-f7d0-4460-8673-b213045065fa",
        "outputId": "1cfefdf0-de4d-430a-d2d3-e8705158917e"
      },
      "outputs": [
        {
          "output_type": "stream",
          "name": "stdout",
          "text": [
            "Ranged Integer Array : [ 5  9 13 17]\n"
          ]
        }
      ],
      "source": [
        "# Q21\n",
        "def Arrange_NumpyArray(high,low=0,step=1):\n",
        "    return(np.arange(low,high+1,step,dtype=np.int16))\n",
        "\n",
        "print(f\"Ranged Integer Array : {Arrange_NumpyArray(high=20,low=5,step=4)}\")"
      ]
    },
    {
      "cell_type": "markdown",
      "source": [
        "**Q22. Write a Python function using NumPy to generate an array of 10 equally spaced values between 0 and 1 (inclusive).**"
      ],
      "metadata": {
        "id": "O6fv4TeAENog"
      },
      "id": "O6fv4TeAENog"
    },
    {
      "cell_type": "code",
      "execution_count": 27,
      "id": "cef4ccfe-e884-40cb-94d7-ea34f3fc659b",
      "metadata": {
        "colab": {
          "base_uri": "https://localhost:8080/"
        },
        "id": "cef4ccfe-e884-40cb-94d7-ea34f3fc659b",
        "outputId": "764bd60d-fdbe-4250-af87-b851d91071e4"
      },
      "outputs": [
        {
          "output_type": "stream",
          "name": "stdout",
          "text": [
            "Ranged Integer Array : [0.         0.11111111 0.22222222 0.33333333 0.44444444 0.55555556\n",
            " 0.66666667 0.77777778 0.88888889 1.        ]\n"
          ]
        }
      ],
      "source": [
        "# Q22\n",
        "def EqualspacedValues_NumpyArray():\n",
        "    return(np.linspace(start=0,stop=1,num=10))\n",
        "\n",
        "print(f\"Ranged Integer Array : {EqualspacedValues_NumpyArray()}\")\n"
      ]
    },
    {
      "cell_type": "markdown",
      "source": [
        "**Q23. Write a Python function using NumPy to create an array of 5 logarithmically spaced values between 1 and 1000 (inclusive).**\n"
      ],
      "metadata": {
        "id": "nAUyMi8WEO72"
      },
      "id": "nAUyMi8WEO72"
    },
    {
      "cell_type": "code",
      "execution_count": 28,
      "id": "bd02d952-272c-411b-8264-a13cb195feca",
      "metadata": {
        "colab": {
          "base_uri": "https://localhost:8080/"
        },
        "id": "bd02d952-272c-411b-8264-a13cb195feca",
        "outputId": "d7de9977-3762-420d-fe08-05954471276c"
      },
      "outputs": [
        {
          "output_type": "stream",
          "name": "stdout",
          "text": [
            "Ranged Integer Array : [1.00000000e+001 5.62341325e+250             inf             inf\n",
            "             inf]\n"
          ]
        },
        {
          "output_type": "stream",
          "name": "stderr",
          "text": [
            "/usr/local/lib/python3.10/dist-packages/numpy/core/function_base.py:298: RuntimeWarning: overflow encountered in power\n",
            "  return _nx.power(base, y)\n"
          ]
        }
      ],
      "source": [
        "# Q23\n",
        "\n",
        "def LogspacedValues_NumpyArray():\n",
        "    return(np.logspace(start=1,stop=1000,num=5))\n",
        "\n",
        "print(f\"Ranged Integer Array : {LogspacedValues_NumpyArray()}\")"
      ]
    },
    {
      "cell_type": "markdown",
      "source": [
        "**Q24. Create a Pandas DataFrame using a NumPy array that contains 5 rows and 3 columns, where the values are random integers between 1 and 100.**"
      ],
      "metadata": {
        "id": "_oElIxNhESnB"
      },
      "id": "_oElIxNhESnB"
    },
    {
      "cell_type": "code",
      "execution_count": 58,
      "id": "741b94c9-a6fc-4b82-8e7b-fec59ca005c7",
      "metadata": {
        "colab": {
          "base_uri": "https://localhost:8080/",
          "height": 206
        },
        "id": "741b94c9-a6fc-4b82-8e7b-fec59ca005c7",
        "outputId": "b663e1d6-1581-40e7-e34c-4106d09205ae"
      },
      "outputs": [
        {
          "output_type": "execute_result",
          "data": {
            "text/plain": [
              "    A   B   C\n",
              "0  86  68  52\n",
              "1  48  48  51\n",
              "2  23  83  78\n",
              "3  73  86  93\n",
              "4  92   9  10"
            ],
            "text/html": [
              "\n",
              "  <div id=\"df-dbf326bf-b032-4d30-9331-ab87d8e110cf\" class=\"colab-df-container\">\n",
              "    <div>\n",
              "<style scoped>\n",
              "    .dataframe tbody tr th:only-of-type {\n",
              "        vertical-align: middle;\n",
              "    }\n",
              "\n",
              "    .dataframe tbody tr th {\n",
              "        vertical-align: top;\n",
              "    }\n",
              "\n",
              "    .dataframe thead th {\n",
              "        text-align: right;\n",
              "    }\n",
              "</style>\n",
              "<table border=\"1\" class=\"dataframe\">\n",
              "  <thead>\n",
              "    <tr style=\"text-align: right;\">\n",
              "      <th></th>\n",
              "      <th>A</th>\n",
              "      <th>B</th>\n",
              "      <th>C</th>\n",
              "    </tr>\n",
              "  </thead>\n",
              "  <tbody>\n",
              "    <tr>\n",
              "      <th>0</th>\n",
              "      <td>86</td>\n",
              "      <td>68</td>\n",
              "      <td>52</td>\n",
              "    </tr>\n",
              "    <tr>\n",
              "      <th>1</th>\n",
              "      <td>48</td>\n",
              "      <td>48</td>\n",
              "      <td>51</td>\n",
              "    </tr>\n",
              "    <tr>\n",
              "      <th>2</th>\n",
              "      <td>23</td>\n",
              "      <td>83</td>\n",
              "      <td>78</td>\n",
              "    </tr>\n",
              "    <tr>\n",
              "      <th>3</th>\n",
              "      <td>73</td>\n",
              "      <td>86</td>\n",
              "      <td>93</td>\n",
              "    </tr>\n",
              "    <tr>\n",
              "      <th>4</th>\n",
              "      <td>92</td>\n",
              "      <td>9</td>\n",
              "      <td>10</td>\n",
              "    </tr>\n",
              "  </tbody>\n",
              "</table>\n",
              "</div>\n",
              "    <div class=\"colab-df-buttons\">\n",
              "\n",
              "  <div class=\"colab-df-container\">\n",
              "    <button class=\"colab-df-convert\" onclick=\"convertToInteractive('df-dbf326bf-b032-4d30-9331-ab87d8e110cf')\"\n",
              "            title=\"Convert this dataframe to an interactive table.\"\n",
              "            style=\"display:none;\">\n",
              "\n",
              "  <svg xmlns=\"http://www.w3.org/2000/svg\" height=\"24px\" viewBox=\"0 -960 960 960\">\n",
              "    <path d=\"M120-120v-720h720v720H120Zm60-500h600v-160H180v160Zm220 220h160v-160H400v160Zm0 220h160v-160H400v160ZM180-400h160v-160H180v160Zm440 0h160v-160H620v160ZM180-180h160v-160H180v160Zm440 0h160v-160H620v160Z\"/>\n",
              "  </svg>\n",
              "    </button>\n",
              "\n",
              "  <style>\n",
              "    .colab-df-container {\n",
              "      display:flex;\n",
              "      gap: 12px;\n",
              "    }\n",
              "\n",
              "    .colab-df-convert {\n",
              "      background-color: #E8F0FE;\n",
              "      border: none;\n",
              "      border-radius: 50%;\n",
              "      cursor: pointer;\n",
              "      display: none;\n",
              "      fill: #1967D2;\n",
              "      height: 32px;\n",
              "      padding: 0 0 0 0;\n",
              "      width: 32px;\n",
              "    }\n",
              "\n",
              "    .colab-df-convert:hover {\n",
              "      background-color: #E2EBFA;\n",
              "      box-shadow: 0px 1px 2px rgba(60, 64, 67, 0.3), 0px 1px 3px 1px rgba(60, 64, 67, 0.15);\n",
              "      fill: #174EA6;\n",
              "    }\n",
              "\n",
              "    .colab-df-buttons div {\n",
              "      margin-bottom: 4px;\n",
              "    }\n",
              "\n",
              "    [theme=dark] .colab-df-convert {\n",
              "      background-color: #3B4455;\n",
              "      fill: #D2E3FC;\n",
              "    }\n",
              "\n",
              "    [theme=dark] .colab-df-convert:hover {\n",
              "      background-color: #434B5C;\n",
              "      box-shadow: 0px 1px 3px 1px rgba(0, 0, 0, 0.15);\n",
              "      filter: drop-shadow(0px 1px 2px rgba(0, 0, 0, 0.3));\n",
              "      fill: #FFFFFF;\n",
              "    }\n",
              "  </style>\n",
              "\n",
              "    <script>\n",
              "      const buttonEl =\n",
              "        document.querySelector('#df-dbf326bf-b032-4d30-9331-ab87d8e110cf button.colab-df-convert');\n",
              "      buttonEl.style.display =\n",
              "        google.colab.kernel.accessAllowed ? 'block' : 'none';\n",
              "\n",
              "      async function convertToInteractive(key) {\n",
              "        const element = document.querySelector('#df-dbf326bf-b032-4d30-9331-ab87d8e110cf');\n",
              "        const dataTable =\n",
              "          await google.colab.kernel.invokeFunction('convertToInteractive',\n",
              "                                                    [key], {});\n",
              "        if (!dataTable) return;\n",
              "\n",
              "        const docLinkHtml = 'Like what you see? Visit the ' +\n",
              "          '<a target=\"_blank\" href=https://colab.research.google.com/notebooks/data_table.ipynb>data table notebook</a>'\n",
              "          + ' to learn more about interactive tables.';\n",
              "        element.innerHTML = '';\n",
              "        dataTable['output_type'] = 'display_data';\n",
              "        await google.colab.output.renderOutput(dataTable, element);\n",
              "        const docLink = document.createElement('div');\n",
              "        docLink.innerHTML = docLinkHtml;\n",
              "        element.appendChild(docLink);\n",
              "      }\n",
              "    </script>\n",
              "  </div>\n",
              "\n",
              "\n",
              "<div id=\"df-f4236b99-13f4-40d5-a010-441edbc4d7a6\">\n",
              "  <button class=\"colab-df-quickchart\" onclick=\"quickchart('df-f4236b99-13f4-40d5-a010-441edbc4d7a6')\"\n",
              "            title=\"Suggest charts\"\n",
              "            style=\"display:none;\">\n",
              "\n",
              "<svg xmlns=\"http://www.w3.org/2000/svg\" height=\"24px\"viewBox=\"0 0 24 24\"\n",
              "     width=\"24px\">\n",
              "    <g>\n",
              "        <path d=\"M19 3H5c-1.1 0-2 .9-2 2v14c0 1.1.9 2 2 2h14c1.1 0 2-.9 2-2V5c0-1.1-.9-2-2-2zM9 17H7v-7h2v7zm4 0h-2V7h2v10zm4 0h-2v-4h2v4z\"/>\n",
              "    </g>\n",
              "</svg>\n",
              "  </button>\n",
              "\n",
              "<style>\n",
              "  .colab-df-quickchart {\n",
              "      --bg-color: #E8F0FE;\n",
              "      --fill-color: #1967D2;\n",
              "      --hover-bg-color: #E2EBFA;\n",
              "      --hover-fill-color: #174EA6;\n",
              "      --disabled-fill-color: #AAA;\n",
              "      --disabled-bg-color: #DDD;\n",
              "  }\n",
              "\n",
              "  [theme=dark] .colab-df-quickchart {\n",
              "      --bg-color: #3B4455;\n",
              "      --fill-color: #D2E3FC;\n",
              "      --hover-bg-color: #434B5C;\n",
              "      --hover-fill-color: #FFFFFF;\n",
              "      --disabled-bg-color: #3B4455;\n",
              "      --disabled-fill-color: #666;\n",
              "  }\n",
              "\n",
              "  .colab-df-quickchart {\n",
              "    background-color: var(--bg-color);\n",
              "    border: none;\n",
              "    border-radius: 50%;\n",
              "    cursor: pointer;\n",
              "    display: none;\n",
              "    fill: var(--fill-color);\n",
              "    height: 32px;\n",
              "    padding: 0;\n",
              "    width: 32px;\n",
              "  }\n",
              "\n",
              "  .colab-df-quickchart:hover {\n",
              "    background-color: var(--hover-bg-color);\n",
              "    box-shadow: 0 1px 2px rgba(60, 64, 67, 0.3), 0 1px 3px 1px rgba(60, 64, 67, 0.15);\n",
              "    fill: var(--button-hover-fill-color);\n",
              "  }\n",
              "\n",
              "  .colab-df-quickchart-complete:disabled,\n",
              "  .colab-df-quickchart-complete:disabled:hover {\n",
              "    background-color: var(--disabled-bg-color);\n",
              "    fill: var(--disabled-fill-color);\n",
              "    box-shadow: none;\n",
              "  }\n",
              "\n",
              "  .colab-df-spinner {\n",
              "    border: 2px solid var(--fill-color);\n",
              "    border-color: transparent;\n",
              "    border-bottom-color: var(--fill-color);\n",
              "    animation:\n",
              "      spin 1s steps(1) infinite;\n",
              "  }\n",
              "\n",
              "  @keyframes spin {\n",
              "    0% {\n",
              "      border-color: transparent;\n",
              "      border-bottom-color: var(--fill-color);\n",
              "      border-left-color: var(--fill-color);\n",
              "    }\n",
              "    20% {\n",
              "      border-color: transparent;\n",
              "      border-left-color: var(--fill-color);\n",
              "      border-top-color: var(--fill-color);\n",
              "    }\n",
              "    30% {\n",
              "      border-color: transparent;\n",
              "      border-left-color: var(--fill-color);\n",
              "      border-top-color: var(--fill-color);\n",
              "      border-right-color: var(--fill-color);\n",
              "    }\n",
              "    40% {\n",
              "      border-color: transparent;\n",
              "      border-right-color: var(--fill-color);\n",
              "      border-top-color: var(--fill-color);\n",
              "    }\n",
              "    60% {\n",
              "      border-color: transparent;\n",
              "      border-right-color: var(--fill-color);\n",
              "    }\n",
              "    80% {\n",
              "      border-color: transparent;\n",
              "      border-right-color: var(--fill-color);\n",
              "      border-bottom-color: var(--fill-color);\n",
              "    }\n",
              "    90% {\n",
              "      border-color: transparent;\n",
              "      border-bottom-color: var(--fill-color);\n",
              "    }\n",
              "  }\n",
              "</style>\n",
              "\n",
              "  <script>\n",
              "    async function quickchart(key) {\n",
              "      const quickchartButtonEl =\n",
              "        document.querySelector('#' + key + ' button');\n",
              "      quickchartButtonEl.disabled = true;  // To prevent multiple clicks.\n",
              "      quickchartButtonEl.classList.add('colab-df-spinner');\n",
              "      try {\n",
              "        const charts = await google.colab.kernel.invokeFunction(\n",
              "            'suggestCharts', [key], {});\n",
              "      } catch (error) {\n",
              "        console.error('Error during call to suggestCharts:', error);\n",
              "      }\n",
              "      quickchartButtonEl.classList.remove('colab-df-spinner');\n",
              "      quickchartButtonEl.classList.add('colab-df-quickchart-complete');\n",
              "    }\n",
              "    (() => {\n",
              "      let quickchartButtonEl =\n",
              "        document.querySelector('#df-f4236b99-13f4-40d5-a010-441edbc4d7a6 button');\n",
              "      quickchartButtonEl.style.display =\n",
              "        google.colab.kernel.accessAllowed ? 'block' : 'none';\n",
              "    })();\n",
              "  </script>\n",
              "</div>\n",
              "\n",
              "  <div id=\"id_397eaecd-685b-45d4-a22a-b11d5d3b7e10\">\n",
              "    <style>\n",
              "      .colab-df-generate {\n",
              "        background-color: #E8F0FE;\n",
              "        border: none;\n",
              "        border-radius: 50%;\n",
              "        cursor: pointer;\n",
              "        display: none;\n",
              "        fill: #1967D2;\n",
              "        height: 32px;\n",
              "        padding: 0 0 0 0;\n",
              "        width: 32px;\n",
              "      }\n",
              "\n",
              "      .colab-df-generate:hover {\n",
              "        background-color: #E2EBFA;\n",
              "        box-shadow: 0px 1px 2px rgba(60, 64, 67, 0.3), 0px 1px 3px 1px rgba(60, 64, 67, 0.15);\n",
              "        fill: #174EA6;\n",
              "      }\n",
              "\n",
              "      [theme=dark] .colab-df-generate {\n",
              "        background-color: #3B4455;\n",
              "        fill: #D2E3FC;\n",
              "      }\n",
              "\n",
              "      [theme=dark] .colab-df-generate:hover {\n",
              "        background-color: #434B5C;\n",
              "        box-shadow: 0px 1px 3px 1px rgba(0, 0, 0, 0.15);\n",
              "        filter: drop-shadow(0px 1px 2px rgba(0, 0, 0, 0.3));\n",
              "        fill: #FFFFFF;\n",
              "      }\n",
              "    </style>\n",
              "    <button class=\"colab-df-generate\" onclick=\"generateWithVariable('df')\"\n",
              "            title=\"Generate code using this dataframe.\"\n",
              "            style=\"display:none;\">\n",
              "\n",
              "  <svg xmlns=\"http://www.w3.org/2000/svg\" height=\"24px\"viewBox=\"0 0 24 24\"\n",
              "       width=\"24px\">\n",
              "    <path d=\"M7,19H8.4L18.45,9,17,7.55,7,17.6ZM5,21V16.75L18.45,3.32a2,2,0,0,1,2.83,0l1.4,1.43a1.91,1.91,0,0,1,.58,1.4,1.91,1.91,0,0,1-.58,1.4L9.25,21ZM18.45,9,17,7.55Zm-12,3A5.31,5.31,0,0,0,4.9,8.1,5.31,5.31,0,0,0,1,6.5,5.31,5.31,0,0,0,4.9,4.9,5.31,5.31,0,0,0,6.5,1,5.31,5.31,0,0,0,8.1,4.9,5.31,5.31,0,0,0,12,6.5,5.46,5.46,0,0,0,6.5,12Z\"/>\n",
              "  </svg>\n",
              "    </button>\n",
              "    <script>\n",
              "      (() => {\n",
              "      const buttonEl =\n",
              "        document.querySelector('#id_397eaecd-685b-45d4-a22a-b11d5d3b7e10 button.colab-df-generate');\n",
              "      buttonEl.style.display =\n",
              "        google.colab.kernel.accessAllowed ? 'block' : 'none';\n",
              "\n",
              "      buttonEl.onclick = () => {\n",
              "        google.colab.notebook.generateWithVariable('df');\n",
              "      }\n",
              "      })();\n",
              "    </script>\n",
              "  </div>\n",
              "\n",
              "    </div>\n",
              "  </div>\n"
            ],
            "application/vnd.google.colaboratory.intrinsic+json": {
              "type": "dataframe",
              "variable_name": "df",
              "summary": "{\n  \"name\": \"df\",\n  \"rows\": 5,\n  \"fields\": [\n    {\n      \"column\": \"A\",\n      \"properties\": {\n        \"dtype\": \"number\",\n        \"std\": 28,\n        \"min\": 23,\n        \"max\": 92,\n        \"num_unique_values\": 5,\n        \"samples\": [\n          48,\n          92,\n          23\n        ],\n        \"semantic_type\": \"\",\n        \"description\": \"\"\n      }\n    },\n    {\n      \"column\": \"B\",\n      \"properties\": {\n        \"dtype\": \"number\",\n        \"std\": 31,\n        \"min\": 9,\n        \"max\": 86,\n        \"num_unique_values\": 5,\n        \"samples\": [\n          48,\n          9,\n          83\n        ],\n        \"semantic_type\": \"\",\n        \"description\": \"\"\n      }\n    },\n    {\n      \"column\": \"C\",\n      \"properties\": {\n        \"dtype\": \"number\",\n        \"std\": 31,\n        \"min\": 10,\n        \"max\": 93,\n        \"num_unique_values\": 5,\n        \"samples\": [\n          51,\n          10,\n          78\n        ],\n        \"semantic_type\": \"\",\n        \"description\": \"\"\n      }\n    }\n  ]\n}"
            }
          },
          "metadata": {},
          "execution_count": 58
        }
      ],
      "source": [
        "# Q24\n",
        "arr=np.random.randint(low=1,high=101,size=(5,3))\n",
        "df=pd.DataFrame(arr,columns=[\"A\",\"B\",\"C\"])  #Pandas DataFrame created using Random integers between 1 to 100 using\n",
        "df"
      ]
    },
    {
      "cell_type": "markdown",
      "source": [
        "**Q25. Write a function that takes a Pandas DataFrame and replaces all negative values in a specific column with zeros. Use NumPy operations within the Pandas DataFrame.**\n"
      ],
      "metadata": {
        "id": "SzOfitLnEb3V"
      },
      "id": "SzOfitLnEb3V"
    },
    {
      "cell_type": "code",
      "execution_count": 30,
      "id": "0544d4e4-51de-4d89-8d99-c82b58039821",
      "metadata": {
        "colab": {
          "base_uri": "https://localhost:8080/"
        },
        "id": "0544d4e4-51de-4d89-8d99-c82b58039821",
        "outputId": "e6bcd976-ad08-4924-de9a-82682c9e19d0"
      },
      "outputs": [
        {
          "output_type": "stream",
          "name": "stdout",
          "text": [
            "Original DataFrame : \n",
            "     A   B   C\n",
            "0  45  20  36\n",
            "1 -96  42  -9\n",
            "2 -12  -7  20\n",
            "\n",
            " New DataFrameDataFrame : \n",
            "     A   B   C\n",
            "0  45  20  36\n",
            "1   0  42  -9\n",
            "2   0  -7  20\n"
          ]
        }
      ],
      "source": [
        "# Q25\n",
        "df=pd.DataFrame([[45,20,36],[-96,42,-9],[-12,-7,20]],columns=[\"A\",\"B\",\"C\"])\n",
        "print(f\"Original DataFrame : \\n {df}\")\n",
        "df[\"A\"]=np.where(df[\"A\"]<0,0,df[\"A\"])  # (condition, True-Action , False Action)\n",
        "# Alternative approach (wthout numpy)--> df[\"A\"]=df[\"A\"].apply(lambda x : 0 if(x<0) else x)\n",
        "print(f\"\\n New DataFrameDataFrame : \\n {df}\")"
      ]
    },
    {
      "cell_type": "markdown",
      "source": [
        "**Q26. Access the 3rd element from the given NumPy array. arr = np.array([10, 20, 30, 40, 50])**"
      ],
      "metadata": {
        "id": "3G32VSTdEc4I"
      },
      "id": "3G32VSTdEc4I"
    },
    {
      "cell_type": "code",
      "execution_count": 31,
      "id": "0b7a8203-ba12-4ceb-9c6a-8ca580a17be7",
      "metadata": {
        "colab": {
          "base_uri": "https://localhost:8080/"
        },
        "id": "0b7a8203-ba12-4ceb-9c6a-8ca580a17be7",
        "outputId": "b1339107-c44a-4efd-f743-f699e0ed1281"
      },
      "outputs": [
        {
          "output_type": "stream",
          "name": "stdout",
          "text": [
            "Accesing the 5th Element ---> 50\n"
          ]
        }
      ],
      "source": [
        "#Q26\n",
        "arr=np.array([10,20,30,40,50])\n",
        "print(f\"Accesing the 5th Element ---> {arr[4]}\")"
      ]
    },
    {
      "cell_type": "markdown",
      "source": [
        "**Q27. Retrieve the element at index (1, 2) from the 2D NumPy array.\n",
        "arr_2d = np.array([[1, 2, 3], [4, 5, 6], [7, 8, 9]])**\n"
      ],
      "metadata": {
        "id": "s0YBZxzTEd45"
      },
      "id": "s0YBZxzTEd45"
    },
    {
      "cell_type": "code",
      "execution_count": 32,
      "id": "bd6a4a5f-26c8-4f97-9c4b-b9ca66b34b17",
      "metadata": {
        "colab": {
          "base_uri": "https://localhost:8080/"
        },
        "id": "bd6a4a5f-26c8-4f97-9c4b-b9ca66b34b17",
        "outputId": "9791b931-0bc9-483c-8711-7cbc1ebee1ee"
      },
      "outputs": [
        {
          "output_type": "stream",
          "name": "stdout",
          "text": [
            "Fetching elemnt at (1,2) ---> 6\n"
          ]
        }
      ],
      "source": [
        "#Q27\n",
        "arr_2d=np.array([[1,2,3],[4,5,6],[7,8,9]])\n",
        "print(f\"Fetching elemnt at (1,2) ---> {arr_2d[1,2]}\")"
      ]
    },
    {
      "cell_type": "markdown",
      "source": [
        "**Q28. Using boolean indexing, extract elements greater than 5 from the given NumPy array.arr = np.array([3, 8, 2, 10, 5, 7])**\n"
      ],
      "metadata": {
        "id": "bZ2wrfJEEgAT"
      },
      "id": "bZ2wrfJEEgAT"
    },
    {
      "cell_type": "code",
      "execution_count": 33,
      "id": "19fba756-92b7-4eaa-8625-e6491f1bd7db",
      "metadata": {
        "colab": {
          "base_uri": "https://localhost:8080/"
        },
        "id": "19fba756-92b7-4eaa-8625-e6491f1bd7db",
        "outputId": "85f039c6-c568-400d-9fc8-dcd1bd3764df"
      },
      "outputs": [
        {
          "output_type": "stream",
          "name": "stdout",
          "text": [
            "Elements Grater than 5 --> [ 8 10  7]\n"
          ]
        }
      ],
      "source": [
        "#Q28\n",
        "arr=np.array([3,8,2,10,5,7])\n",
        "print(f\"Elements Grater than 5 --> {arr[arr>5]}\")"
      ]
    },
    {
      "cell_type": "markdown",
      "source": [
        "**Q29. Perform basic slicing to extract elements from index 2 to 5 (inclusive) from the given NumPy array. arr= np.array([1, 2, 3, 4, 5, 6, 7, 8, 9])**"
      ],
      "metadata": {
        "id": "AQhcHes2EhZy"
      },
      "id": "AQhcHes2EhZy"
    },
    {
      "cell_type": "code",
      "execution_count": 34,
      "id": "5a8067c1-8283-4724-b43a-21f3e214e7c5",
      "metadata": {
        "colab": {
          "base_uri": "https://localhost:8080/"
        },
        "id": "5a8067c1-8283-4724-b43a-21f3e214e7c5",
        "outputId": "6f43b423-ec7c-494c-f9cf-5f4f8574f593"
      },
      "outputs": [
        {
          "output_type": "stream",
          "name": "stdout",
          "text": [
            "Target Slicing --> [3 4 5 6]\n"
          ]
        }
      ],
      "source": [
        "# 29\n",
        "arr=np.array([1,2,3,4,5,6,7,8,9])\n",
        "print(f\"Target Slicing --> {arr[2:6]}\")  #extracting elements at index position from 2 to 5 inclusive"
      ]
    },
    {
      "cell_type": "markdown",
      "source": [
        "**Q30. Slice the 2D NumPy array to extract the sub-array [[2, 3], [5, 6]]` from the given array. arr_2d np.array([[1, 2, 3], [4, 5, 6], [7, 8, 9]])**"
      ],
      "metadata": {
        "id": "yHLVj_qMEjOc"
      },
      "id": "yHLVj_qMEjOc"
    },
    {
      "cell_type": "code",
      "execution_count": 35,
      "id": "60a6bfcb-037c-4e39-b4e6-db48d1215cfd",
      "metadata": {
        "colab": {
          "base_uri": "https://localhost:8080/"
        },
        "id": "60a6bfcb-037c-4e39-b4e6-db48d1215cfd",
        "outputId": "567ff494-92fc-4fd0-b801-4e07bb6c4f7a"
      },
      "outputs": [
        {
          "output_type": "stream",
          "name": "stdout",
          "text": [
            "Traget Extraction of Sub Array --> \n",
            "[[2 3]\n",
            " [5 6]]\n"
          ]
        }
      ],
      "source": [
        "# Q30\n",
        "arr_2d=np.array([[1,2,3],[4,5,6],[7,8,9]])\n",
        "print(f\"Traget Extraction of Sub Array --> \\n{arr_2d[0:2,1:3]}\")"
      ]
    },
    {
      "cell_type": "markdown",
      "source": [
        "**Q31. Write a NumPy function to extract elements in specific order from a given 2D array based on indices provided in another array.**"
      ],
      "metadata": {
        "id": "-lLqfKx8HXzl"
      },
      "id": "-lLqfKx8HXzl"
    },
    {
      "cell_type": "code",
      "execution_count": 37,
      "id": "cad21725-795c-400d-83a3-b4f38b31a1a4",
      "metadata": {
        "colab": {
          "base_uri": "https://localhost:8080/"
        },
        "id": "cad21725-795c-400d-83a3-b4f38b31a1a4",
        "outputId": "f3b127cd-7751-4319-c7c7-23d65611f05c"
      },
      "outputs": [
        {
          "output_type": "stream",
          "name": "stdout",
          "text": [
            "Extracted Elements ---> [5. 2. 8.]\n"
          ]
        }
      ],
      "source": [
        "#Q31\n",
        "\n",
        "def extract_index(arr,index):\n",
        "    output_arr=np.empty(len(index),dtype=np.float16)  #Creating an empty array to store the extracted elements\n",
        "    for i,ind in enumerate(index):\n",
        "        if(0<=ind<arr.size):  #condition to check for out-of-bound indexes\n",
        "            row,col=np.unravel_index(ind,arr.shape)\n",
        "            output_arr[i]=arr[row,col]\n",
        "        else:\n",
        "            output_arr[i]=np.nan # Fill with Null if out of bound index takes place\n",
        "    return output_arr\n",
        "\n",
        "array = np.array([[1, 2, 3], [4, 5, 6], [7, 8, 9]])\n",
        "index = np.array([4, 1, 7])\n",
        "print(f\"Extracted Elements ---> {extract_index(array,index)}\")"
      ]
    },
    {
      "cell_type": "markdown",
      "source": [
        "**Q32. Create a NumPy function that filters elements greater than a threshold from a given ID array using boolean indexing.**"
      ],
      "metadata": {
        "id": "8TKUw_BRHZQx"
      },
      "id": "8TKUw_BRHZQx"
    },
    {
      "cell_type": "code",
      "execution_count": 38,
      "id": "57374acd-e820-4149-a370-1dd48adf7d95",
      "metadata": {
        "colab": {
          "base_uri": "https://localhost:8080/"
        },
        "id": "57374acd-e820-4149-a370-1dd48adf7d95",
        "outputId": "47214ffe-2d27-4d52-c330-831d345ad06c"
      },
      "outputs": [
        {
          "output_type": "stream",
          "name": "stdout",
          "text": [
            "Filtered Array --> [45 96 20 14 63 78 41 36 91 82 20]\n"
          ]
        }
      ],
      "source": [
        "#Q32\n",
        "arr=np.array((45,96,20,14,63,78,41,36,91,82,20,1,3,4,7))\n",
        "threshold=12.5\n",
        "print(f\"Filtered Array --> {arr[arr>threshold]}\")"
      ]
    },
    {
      "cell_type": "markdown",
      "source": [
        "**Q33. Develop a NumPy function that extracts specific elements from a 3D array using indices provided in three separate arrays for each dimension.**"
      ],
      "metadata": {
        "id": "SHC5yyMQHbmg"
      },
      "id": "SHC5yyMQHbmg"
    },
    {
      "cell_type": "code",
      "execution_count": 39,
      "id": "243395ff-f563-41f6-8c66-ae774e94fc6a",
      "metadata": {
        "colab": {
          "base_uri": "https://localhost:8080/"
        },
        "id": "243395ff-f563-41f6-8c66-ae774e94fc6a",
        "outputId": "1081e76a-7fbd-4ac5-89ba-6c10256fdab2"
      },
      "outputs": [
        {
          "output_type": "stream",
          "name": "stdout",
          "text": [
            "Extracted Elements --> [ 7.  7. 13. 10. 12.]\n"
          ]
        }
      ],
      "source": [
        "#Q33\n",
        "def ThreeD_Extraction(arr,a1,a2,a3):\n",
        "    output=np.empty(len(a1))\n",
        "    counter=0\n",
        "    for i,j,k in (zip(a1,a2,a3)):\n",
        "        try:\n",
        "            output[counter]=arr[i,j,k]\n",
        "        except ValueError:\n",
        "            output[counter]=np.nan\n",
        "        counter+=1\n",
        "    return output\n",
        "\n",
        "arr=np.random.randint(low=5,high=16,size=(2,3,3))\n",
        "a1=np.random.randint(low=0,high=2,size=(5,))\n",
        "a2=np.random.randint(low=0,high=3,size=(5,))\n",
        "a3=np.random.randint(low=0,high=3,size=(5,))\n",
        "print(f\"Extracted Elements --> {ThreeD_Extraction(arr,a1,a2,a3)}\")"
      ]
    },
    {
      "cell_type": "markdown",
      "source": [
        "**Q34. Write a NumPy function that returns elements from an array where both two conditions are satisfied using boolean indexing.**"
      ],
      "metadata": {
        "id": "vmIwasMnHc3A"
      },
      "id": "vmIwasMnHc3A"
    },
    {
      "cell_type": "code",
      "execution_count": 40,
      "id": "5365ed2f-acb9-4ac8-884a-f7e88feb154a",
      "metadata": {
        "colab": {
          "base_uri": "https://localhost:8080/"
        },
        "id": "5365ed2f-acb9-4ac8-884a-f7e88feb154a",
        "outputId": "c0f03594-5263-4a6a-aa3b-28443ebc8ee4"
      },
      "outputs": [
        {
          "output_type": "stream",
          "name": "stdout",
          "text": [
            "Array ---> [56 62 53 55 55 63 35 20 45 43 23] \n",
            " Filtred Array ---> [56 62 53 55 55 63 35 45 43]\n"
          ]
        }
      ],
      "source": [
        "#Q34\n",
        "\n",
        "def Filter_Condition(arr):\n",
        "    cond1,cond2=arr>(5**2),arr<(4**3)\n",
        "    return(arr[cond1 & cond2])\n",
        "\n",
        "arr=np.random.randint(low=14,high=70,size=(11,))\n",
        "print(f\"Array ---> {arr} \\n Filtred Array ---> {Filter_Condition(arr)}\")"
      ]
    },
    {
      "cell_type": "markdown",
      "source": [
        "**Q35. Create a NumPy function that extracts elements from a 2D array using row and column indices provided in separate arrays.**"
      ],
      "metadata": {
        "id": "3qhQZcusHe5Z"
      },
      "id": "3qhQZcusHe5Z"
    },
    {
      "cell_type": "code",
      "execution_count": 41,
      "id": "68b01aec-c250-4c8c-8666-0c7a1459c524",
      "metadata": {
        "colab": {
          "base_uri": "https://localhost:8080/"
        },
        "id": "68b01aec-c250-4c8c-8666-0c7a1459c524",
        "outputId": "e296e5fb-dc69-4dee-8bd8-cedc0c4d0b53"
      },
      "outputs": [
        {
          "output_type": "stream",
          "name": "stdout",
          "text": [
            "Original Array : \n",
            " [[43 67 57]\n",
            " [17 26 14]\n",
            " [16 48 62]\n",
            " [62 35 65]\n",
            " [38 66 34]\n",
            " [64 37 22]\n",
            " [64 19 25]\n",
            " [39 54 38]\n",
            " [61 53 51]\n",
            " [30 41 24]\n",
            " [44 64 23]],\n",
            " Extracted Elements --> [19. 26. 24. 35. 64. 24. 30. 66. 16. 25.]\n"
          ]
        }
      ],
      "source": [
        "#Q35\n",
        "\n",
        "def Extraction_2D(arr,a1,a2):\n",
        "    counter=0\n",
        "    output=np.empty(min(len(a1),len(a2))) # Creating an array to store the extracted arrays\n",
        "    for i,j in zip(a1,a2):\n",
        "        try:\n",
        "            output[counter]=arr[i,j]\n",
        "        except IndexError:\n",
        "            output[counter]=np.nan  #Fill with NULL values if IndexError occurs\n",
        "        counter+=1\n",
        "    return output\n",
        "\n",
        "arr=np.random.randint(low=14,high=70,size=(11,3))\n",
        "a1=np.random.randint(low=0,high=11,size=(ra.randint(10,20),))\n",
        "a2=np.random.randint(low=0,high=3,size=(ra.randint(10,20),))\n",
        "print(f\"Original Array : \\n {arr},\\n Extracted Elements --> {Extraction_2D(arr,a1,a2)}\")"
      ]
    },
    {
      "cell_type": "markdown",
      "source": [
        "**Q36. Given an array arr of shape (3, 3), add a scalar value of 5 to each element using NumPy broadcasting.**"
      ],
      "metadata": {
        "id": "1cWecqO_HhLc"
      },
      "id": "1cWecqO_HhLc"
    },
    {
      "cell_type": "code",
      "execution_count": 42,
      "id": "28c4a9e7-47b5-4a9d-92b9-7048e86bd1e6",
      "metadata": {
        "colab": {
          "base_uri": "https://localhost:8080/"
        },
        "id": "28c4a9e7-47b5-4a9d-92b9-7048e86bd1e6",
        "outputId": "6debb258-39f7-4538-b554-52c993e5db29"
      },
      "outputs": [
        {
          "output_type": "stream",
          "name": "stdout",
          "text": [
            "Original Array : \n",
            " [[44 39 52]\n",
            " [58 38 49]\n",
            " [58 27 36]] ,\n",
            " Scalar addition of 5 : \n",
            " [[49 44 57]\n",
            " [63 43 54]\n",
            " [63 32 41]]\n"
          ]
        }
      ],
      "source": [
        "#Q36\n",
        "arr=np.random.randint(low=14,high=70,size=(3,3))\n",
        "print(f\"Original Array : \\n {arr} ,\\n Scalar addition of 5 : \\n {arr+5}\")"
      ]
    },
    {
      "cell_type": "markdown",
      "source": [
        "**Q37. Consider two arrays arrl of shape (1, 3) and arr2 of shape (3, 4). Multiply each row of arr2 by the corresponding element in arrl using NumPy broadcasting.**"
      ],
      "metadata": {
        "id": "beH15_OGHikw"
      },
      "id": "beH15_OGHikw"
    },
    {
      "cell_type": "code",
      "execution_count": 43,
      "id": "aecda935-da1c-4f98-907b-254b54b8dd57",
      "metadata": {
        "colab": {
          "base_uri": "https://localhost:8080/"
        },
        "id": "aecda935-da1c-4f98-907b-254b54b8dd57",
        "outputId": "e272fce3-2bff-44bb-9438-b4f8e9a5a16e"
      },
      "outputs": [
        {
          "output_type": "stream",
          "name": "stdout",
          "text": [
            "[3400 3740 1972 4148]\n",
            "[3484  936 2808 3016]\n",
            "[3276  832 2392 3224]\n"
          ]
        }
      ],
      "source": [
        "#Q37\n",
        "arr1=np.random.randint(low=14,high=70,size=(1,3))\n",
        "arr2=np.random.randint(low=14,high=70,size=(3,4))\n",
        "\n",
        "for i in range(3):\n",
        "    print(arr2[i]*arr1[0,i])"
      ]
    },
    {
      "cell_type": "markdown",
      "source": [
        "**Q38. Given a ID array arrl of shape (1, 4) and a 2D array arr2 of shape (4, 3), add arrl to each row of arr2 using NumPy broadcasting.**"
      ],
      "metadata": {
        "id": "ExQ16fAzHlNO"
      },
      "id": "ExQ16fAzHlNO"
    },
    {
      "cell_type": "code",
      "execution_count": 44,
      "id": "4287d361-ee9d-4676-9d34-e66a1d2f79c4",
      "metadata": {
        "colab": {
          "base_uri": "https://localhost:8080/"
        },
        "id": "4287d361-ee9d-4676-9d34-e66a1d2f79c4",
        "outputId": "ccb37af6-3a2b-4cdf-d49e-998e330f1f56"
      },
      "outputs": [
        {
          "output_type": "stream",
          "name": "stdout",
          "text": [
            "[44 66 65]\n",
            "[112 106 108]\n",
            "[37 74 79]\n",
            "[77 41 65]\n"
          ]
        }
      ],
      "source": [
        "# Q38\n",
        "arr1=np.random.randint(low=14,high=70,size=(1,4))\n",
        "arr2=np.random.randint(low=14,high=70,size=(4,3))\n",
        "\n",
        "for i in range(4):\n",
        "    print(arr2[i]+arr1[0,i])"
      ]
    },
    {
      "cell_type": "markdown",
      "source": [
        "**Q39. Consider two arrays arrl of shape (3, 1) and arr2 of shape (1, 3). Add these arrays using NumPy broadcasting.**"
      ],
      "metadata": {
        "id": "TzM5WkTXHoQG"
      },
      "id": "TzM5WkTXHoQG"
    },
    {
      "cell_type": "code",
      "execution_count": 46,
      "id": "d60e4806-88c9-4447-b6f2-970d8e87ada7",
      "metadata": {
        "colab": {
          "base_uri": "https://localhost:8080/"
        },
        "id": "d60e4806-88c9-4447-b6f2-970d8e87ada7",
        "outputId": "cbbe6cde-facc-4831-b89f-0aea6104e106"
      },
      "outputs": [
        {
          "output_type": "stream",
          "name": "stdout",
          "text": [
            "Addition of Two Array Using Broadcasting [[ 63]\n",
            " [ 85]\n",
            " [105]]\n"
          ]
        }
      ],
      "source": [
        "# Q39\n",
        "arr1=np.random.randint(low=14,high=70,size=(3,1))\n",
        "arr2=np.random.randint(low=14,high=70,size=(1,3))\n",
        "\n",
        "print(f\"Addition of Two Array Using Broadcasting {arr1+arr2.T}\")"
      ]
    },
    {
      "cell_type": "markdown",
      "source": [
        "**Q40. Given arrays arrl of shape (2, 3) and arr2 of shape (2, 2), perform multiplication using NumPy broadcasting. Handle the shape incompatibility.**"
      ],
      "metadata": {
        "id": "C6ohVQ3iHpWM"
      },
      "id": "C6ohVQ3iHpWM"
    },
    {
      "cell_type": "code",
      "execution_count": 47,
      "id": "c2a1031f-24a2-4e54-8361-6c2a6ad01c93",
      "metadata": {
        "colab": {
          "base_uri": "https://localhost:8080/"
        },
        "id": "c2a1031f-24a2-4e54-8361-6c2a6ad01c93",
        "outputId": "6964e7bc-db46-4258-9ac8-a449da7554b7"
      },
      "outputs": [
        {
          "output_type": "stream",
          "name": "stdout",
          "text": [
            "BROADCASTING NOT POSSIBLE DUE TO IN-COMPATABLE SHAPE\n"
          ]
        }
      ],
      "source": [
        "#40\n",
        "arr1=np.random.randint(low=14,high=70,size=(2,3))\n",
        "arr2=np.random.randint(low=14,high=70,size=(2,2))\n",
        "\n",
        "#Trying to broadcasting of Multiplication with Incompatable shapes\n",
        "try:\n",
        "    print(arr1*arr2)\n",
        "except ValueError:\n",
        "    print(\"BROADCASTING NOT POSSIBLE DUE TO IN-COMPATABLE SHAPE\")"
      ]
    },
    {
      "cell_type": "markdown",
      "source": [
        "**Q41. Calculate column-wise mean for the given array: arr = np.array([[1, 2, 3], [4, 5, 6]])**"
      ],
      "metadata": {
        "id": "DsnNSF43Hqu0"
      },
      "id": "DsnNSF43Hqu0"
    },
    {
      "cell_type": "code",
      "execution_count": 68,
      "id": "735c2a3b-e44f-4fe4-b588-f057fb8f73fc",
      "metadata": {
        "colab": {
          "base_uri": "https://localhost:8080/"
        },
        "id": "735c2a3b-e44f-4fe4-b588-f057fb8f73fc",
        "outputId": "5cb0a8f0-0f90-40b3-e653-1d0479c2e0f0"
      },
      "outputs": [
        {
          "output_type": "stream",
          "name": "stdout",
          "text": [
            "Col1 mean --> 2.5\n",
            "Col2 mean --> 3.5\n",
            "Col3 mean --> 4.5\n"
          ]
        }
      ],
      "source": [
        "#41\n",
        "arr=np.array([[1,2,3],[4,5,6]])\n",
        "for i in range(arr.shape[1]):\n",
        "    print(f\"Col{i+1} mean --> {arr[:,i].mean()}\")"
      ]
    },
    {
      "cell_type": "markdown",
      "source": [
        "**Q42. Find maximum value in each row of the given array: arr= np.array([[1, 2, 3], [4, 5, 6]])**"
      ],
      "metadata": {
        "id": "BdD4HV9uHxxE"
      },
      "id": "BdD4HV9uHxxE"
    },
    {
      "cell_type": "code",
      "execution_count": 67,
      "id": "c1ae34d6-016c-41ae-a48c-8725e4d23a1b",
      "metadata": {
        "colab": {
          "base_uri": "https://localhost:8080/"
        },
        "id": "c1ae34d6-016c-41ae-a48c-8725e4d23a1b",
        "outputId": "2ba45b21-ad1e-484c-a978-553933d962ed"
      },
      "outputs": [
        {
          "output_type": "stream",
          "name": "stdout",
          "text": [
            "Max elemnt of Row1 ---> 3\n",
            "Max elemnt of Row2 ---> 6\n"
          ]
        }
      ],
      "source": [
        "#Q42\n",
        "arr=np.array([[1,2,3],[4,5,6]])\n",
        "for i in range(arr.shape[0]):\n",
        "    print(f\"Max elemnt of Row{i+1} ---> {np.max(arr[i])}\")"
      ]
    },
    {
      "cell_type": "markdown",
      "source": [
        "**Q43. For the given array, find indices of maximum value in each column.arr = np.array([[1, 2, 3], [4, 5, 6]])**\n"
      ],
      "metadata": {
        "id": "V86BddyfHzNo"
      },
      "id": "V86BddyfHzNo"
    },
    {
      "cell_type": "code",
      "execution_count": 66,
      "id": "622b4cfb-1556-4805-9eba-b3a48bb8f656",
      "metadata": {
        "colab": {
          "base_uri": "https://localhost:8080/"
        },
        "id": "622b4cfb-1556-4805-9eba-b3a48bb8f656",
        "outputId": "7a225ad1-abb9-4e06-9daa-911b11d44779"
      },
      "outputs": [
        {
          "output_type": "stream",
          "name": "stdout",
          "text": [
            "Col1 max element Index Position --> [1]\n",
            "Col2 max element Index Position --> [1]\n",
            "Col3 max element Index Position --> [1]\n"
          ]
        }
      ],
      "source": [
        "#Q43\n",
        "arr=np.array([[1,2,3],[444,55,6]])\n",
        "for i in range(arr.shape[1]):\n",
        "    max=np.max(arr[:,i])\n",
        "    print(f\"Col{i+1} max element Index Position --> {np.where(arr==max)[0]}\")"
      ]
    },
    {
      "cell_type": "markdown",
      "source": [
        "**Q44. For the given array, apply custom function to calculate moving sum along rows.arr = np.array([[1, 2, 3], [4, 5, 6]])**"
      ],
      "metadata": {
        "id": "jcuTBkwMH0vy"
      },
      "id": "jcuTBkwMH0vy"
    },
    {
      "cell_type": "code",
      "execution_count": 65,
      "id": "3172c42b-8d01-4383-a28a-95deabae1848",
      "metadata": {
        "colab": {
          "base_uri": "https://localhost:8080/"
        },
        "id": "3172c42b-8d01-4383-a28a-95deabae1848",
        "outputId": "3a0f813f-abbf-40dc-aa9e-c8c8c77a4ffd"
      },
      "outputs": [
        {
          "output_type": "stream",
          "name": "stdout",
          "text": [
            "Sum of all the Row1 elements ---> 6\n",
            "Sum of all the Row2 elements ---> 15\n"
          ]
        }
      ],
      "source": [
        "#Q44\n",
        "def custom_sum(row):\n",
        "    return(sum(row))\n",
        "\n",
        "arr=np.array([[1,2,3],[4,5,6]])\n",
        "for i in range(arr.shape[0]):\n",
        "    print(f\"Sum of all the Row{i+1} elements ---> {custom_sum(arr[i])}\")\n",
        ""
      ]
    },
    {
      "cell_type": "markdown",
      "source": [
        "**Q45. In the given array, check if all elements in each column are even.arr = np.array([[2, 4, 6], [3, 5, 7]])**"
      ],
      "metadata": {
        "id": "744D3k95H2Rp"
      },
      "id": "744D3k95H2Rp"
    },
    {
      "cell_type": "code",
      "execution_count": 64,
      "id": "81881c19-fb35-49e1-8fb7-a2a99606193d",
      "metadata": {
        "colab": {
          "base_uri": "https://localhost:8080/"
        },
        "id": "81881c19-fb35-49e1-8fb7-a2a99606193d",
        "outputId": "deb3c6f7-9fed-4cac-abaa-1dc008ab5a14"
      },
      "outputs": [
        {
          "output_type": "stream",
          "name": "stdout",
          "text": [
            "Col1 contains only Even Numbers\n",
            "Col2 contains a Odd Number\n",
            "Col3 contains a Odd Number\n"
          ]
        }
      ],
      "source": [
        "#Q45\n",
        "\n",
        "arr=np.array([[2,4,6],[36,5,7]])\n",
        "for i in range(arr.shape[1]):\n",
        "    if(False in (arr[:,i]%2==0)):\n",
        "        print(f\"Col{i+1} contains a Odd Number\")\n",
        "    else:\n",
        "        print(f\"Col{i+1} contains only Even Numbers\")"
      ]
    },
    {
      "cell_type": "markdown",
      "source": [
        "**Q46. Given a NumPy array arr, reshape it into a matrix of dimensions 'm' rows and `n` columns. Return the reshaped matrix.original_array = np.array([1, 2, 3, 4, 5, 6])**"
      ],
      "metadata": {
        "id": "kcz1KWLMH4Rc"
      },
      "id": "kcz1KWLMH4Rc"
    },
    {
      "cell_type": "code",
      "execution_count": 63,
      "id": "3cbe6226-3b05-42c7-b6ee-5e4e145a8a19",
      "metadata": {
        "colab": {
          "base_uri": "https://localhost:8080/"
        },
        "id": "3cbe6226-3b05-42c7-b6ee-5e4e145a8a19",
        "outputId": "8dc356e8-4fd9-4699-c556-fc7f12a18467"
      },
      "outputs": [
        {
          "output_type": "stream",
          "name": "stdout",
          "text": [
            "Original Array : \n",
            "[1 2 3 4 5 6]\n",
            "Reshaped Array : \n",
            "[[1 2 3]\n",
            " [4 5 6]]\n"
          ]
        }
      ],
      "source": [
        "#Q46\n",
        "def Reshape(arr):\n",
        "    m,n=ra.choice(((1,6),(6,1),(2,3),(3,2)))\n",
        "    return arr.reshape(m,n)\n",
        "\n",
        "original_array=np.array([1,2,3,4,5,6])\n",
        "print(f\"Original Array : \\n{original_array}\\nReshaped Array : \\n{Reshape(original_array)}\")"
      ]
    },
    {
      "cell_type": "markdown",
      "source": [
        "**Q47. Create a function that takes a matrix as input and returns the flattened array.input_matrix = np.array([[1, 2, 3], [4, 5, 6]])**"
      ],
      "metadata": {
        "id": "upvvoWALH53A"
      },
      "id": "upvvoWALH53A"
    },
    {
      "cell_type": "code",
      "execution_count": 62,
      "id": "1e830a2f-28be-4077-9823-21ec63c46781",
      "metadata": {
        "colab": {
          "base_uri": "https://localhost:8080/"
        },
        "id": "1e830a2f-28be-4077-9823-21ec63c46781",
        "outputId": "c1b4f3ff-a0cd-4a80-9d33-122dc82a104c"
      },
      "outputs": [
        {
          "output_type": "stream",
          "name": "stdout",
          "text": [
            "Original Array : \n",
            "[[1 2 3]\n",
            " [4 5 6]]\n",
            "Reshaped Array : \n",
            "[1 2 3 4 5 6]\n"
          ]
        }
      ],
      "source": [
        "#Q47\n",
        "def Flat_Array(mat):\n",
        "    return(mat.flatten())\n",
        "\n",
        "input_array=np.array([[1,2,3],[4,5,6]])\n",
        "print(f\"Original Array : \\n{input_array}\\nReshaped Array : \\n{Flat_Array(input_array)}\")"
      ]
    },
    {
      "cell_type": "markdown",
      "source": [
        "**Q48. Write a function that concatenates two given arrays along a specified axis.array1= np.array([[1, 2], [3, 4]])\n",
        "array2= np.array([[5, 6], [7, 8]])**"
      ],
      "metadata": {
        "id": "Z1xWIKvsH7wK"
      },
      "id": "Z1xWIKvsH7wK"
    },
    {
      "cell_type": "code",
      "execution_count": 61,
      "id": "b04ded26-330e-48af-b693-3723f19422b2",
      "metadata": {
        "colab": {
          "base_uri": "https://localhost:8080/"
        },
        "id": "b04ded26-330e-48af-b693-3723f19422b2",
        "outputId": "3bb7ae43-f026-454c-e8f7-d11158dacb57"
      },
      "outputs": [
        {
          "output_type": "stream",
          "name": "stdout",
          "text": [
            "Original Array1 : \n",
            "[[1 2]\n",
            " [3 4]]\n",
            "Original Array2 : \n",
            "[[5 6]\n",
            " [7 8]] \n",
            "Concatinated Array : \n",
            "[[1 2]\n",
            " [3 4]\n",
            " [5 6]\n",
            " [7 8]]\n"
          ]
        }
      ],
      "source": [
        "#Q48\n",
        "def Concatination(a1,a2):\n",
        "    return np.concatenate((a1,a2),axis=ra.choice((0,1)))\n",
        "\n",
        "array1=np.array([[1,2],[3,4]])\n",
        "array2=np.array([[5,6],[7,8]])\n",
        "print(f\"Original Array1 : \\n{array1}\\nOriginal Array2 : \\n{array2} \\nConcatinated Array : \\n{Concatination(array1,array2)}\")"
      ]
    },
    {
      "cell_type": "markdown",
      "source": [
        "**Q49. Create a function that splits an array into multiple sub-arrays along a specified axis.original_array = np.array([[1, 2, 3], [4, 5, 6], [7, 8, 9]])**\n"
      ],
      "metadata": {
        "id": "F1eAjxuoH9TW"
      },
      "id": "F1eAjxuoH9TW"
    },
    {
      "cell_type": "code",
      "execution_count": 60,
      "id": "1d6f84c1-8caa-4b46-8c84-4ca6884db9d4",
      "metadata": {
        "colab": {
          "base_uri": "https://localhost:8080/"
        },
        "id": "1d6f84c1-8caa-4b46-8c84-4ca6884db9d4",
        "outputId": "2acd85ca-8981-417e-8d66-d2134a7e470e"
      },
      "outputs": [
        {
          "output_type": "stream",
          "name": "stdout",
          "text": [
            "Original Array : [[1 2 3]\n",
            " [4 5 6]\n",
            " [7 8 9]]\n",
            "Splitted Array's : \n",
            " [array([[1, 2, 3]]), array([[4, 5, 6],\n",
            "       [7, 8, 9]])]\n"
          ]
        }
      ],
      "source": [
        "#Q49\n",
        "def Split_Array(arr):\n",
        "    return(np.split(arr,[1],axis=ra.choice((0,1))))\n",
        "\n",
        "original_array=np.array([[1,2,3],[4,5,6],[7,8,9]])\n",
        "print(f\"Original Array : {original_array}\\nSplitted Array's : \\n {Split_Array(original_array)}\")"
      ]
    },
    {
      "cell_type": "markdown",
      "source": [
        "**Q50. Write a function that inserts and then deletes elements from a given array at specified indices.**\n",
        "\n",
        "original_array = np.array([1, 2, 3, 4, 5])\n",
        "\n",
        "indices_to_insert = [2,4]\n",
        "\n",
        "values_to_insert [10, 11]\n",
        "\n",
        "indices_to_delete = [1, 3]"
      ],
      "metadata": {
        "id": "6cDbdg-XH_ED"
      },
      "id": "6cDbdg-XH_ED"
    },
    {
      "cell_type": "code",
      "execution_count": 59,
      "id": "526d3566-1894-4c4c-823b-d0b2a801b60e",
      "metadata": {
        "colab": {
          "base_uri": "https://localhost:8080/"
        },
        "id": "526d3566-1894-4c4c-823b-d0b2a801b60e",
        "outputId": "20f05f52-5efa-4d51-aafc-9bd13efc1802"
      },
      "outputs": [
        {
          "output_type": "stream",
          "name": "stdout",
          "text": [
            "Original Array ---> [1 2 3 4 5]\n",
            "New Array ---> [ 1 10  3  4  5]\n"
          ]
        }
      ],
      "source": [
        "#Q50\n",
        "def Operations(arr,ind_i,val_i,ind_del):\n",
        "    lst=list(arr)\n",
        "    lst.insert(ind_i[0],val_i[0])\n",
        "    lst.insert(ind_i[1],val_i[1])\n",
        "    lst.pop(ind_del[0])\n",
        "    lst.pop(ind_del[1])\n",
        "    return(np.asarray(lst))\n",
        "\n",
        "\n",
        "original_array=np.array([1,2,3,4,5])\n",
        "indices_to_insert=[2,4]\n",
        "values_to_insert=[10,11]\n",
        "indices_to_delete=[1,3]\n",
        "\n",
        "print(f\"Original Array ---> {original_array}\\nNew Array ---> {Operations(original_array,indices_to_insert,values_to_insert,indices_to_delete)}\")"
      ]
    },
    {
      "cell_type": "markdown",
      "source": [
        "**Q51. Create a NumPy array `arrl with random integers and another array 'arr2` with integers from 1 to 10. Perform element-wise addition between `arrl` and `arr2`.**"
      ],
      "metadata": {
        "id": "-6GsorZsmmF5"
      },
      "id": "-6GsorZsmmF5"
    },
    {
      "cell_type": "code",
      "execution_count": 69,
      "id": "da0ab1c0-e888-4579-91c4-a8207e6bf39b",
      "metadata": {
        "colab": {
          "base_uri": "https://localhost:8080/"
        },
        "id": "da0ab1c0-e888-4579-91c4-a8207e6bf39b",
        "outputId": "98f2ec69-dc5a-4017-9bc9-f7f8e90d23e7"
      },
      "outputs": [
        {
          "output_type": "stream",
          "name": "stdout",
          "text": [
            "Array 1 --> [15 24 24 28 17 17 28 22 14 24]\n",
            "Array 2 --> [ 1  2  3  4  5  6  7  8  9 10]\n",
            "Addition of Both Array --> [16 26 27 32 22 23 35 30 23 34]\n"
          ]
        }
      ],
      "source": [
        "#Q51\n",
        "arr1=np.random.randint(low=12,high=30,size=(10,))\n",
        "arr2=np.array(range(1,11))\n",
        "print(f\"Array 1 --> {arr1}\\nArray 2 --> {arr2}\\nAddition of Both Array --> {arr1+arr2}\")"
      ]
    },
    {
      "cell_type": "markdown",
      "source": [
        "**Q52. Generate a NumPy array `arrl with sequential integers from 10 to 1 and another array `arr2` with integers from 1 to 10. Subtract arr2` from `arrl` element-wise.**"
      ],
      "metadata": {
        "id": "3IdVmTZQmn2s"
      },
      "id": "3IdVmTZQmn2s"
    },
    {
      "cell_type": "code",
      "execution_count": 70,
      "id": "973dd9d8-5af8-490d-b82f-f54b04f9c6d6",
      "metadata": {
        "colab": {
          "base_uri": "https://localhost:8080/"
        },
        "id": "973dd9d8-5af8-490d-b82f-f54b04f9c6d6",
        "outputId": "e4ac2d7c-93ca-4ae0-aec2-9ea0141dd129"
      },
      "outputs": [
        {
          "output_type": "stream",
          "name": "stdout",
          "text": [
            "Array 1 --> [10  9  8  7  6  5  4  3  2  1]\n",
            "Array 2 --> [ 1  2  3  4  5  6  7  8  9 10]\n",
            "Subtraction of Both Array --> [ 9  7  5  3  1 -1 -3 -5 -7 -9]\n"
          ]
        }
      ],
      "source": [
        "#Q52\n",
        "arr1=np.array(range(10,0,-1))\n",
        "arr2=np.array(range(1,11))\n",
        "print(f\"Array 1 --> {arr1}\\nArray 2 --> {arr2}\\nSubtraction of Both Array --> {arr1-arr2}\")"
      ]
    },
    {
      "cell_type": "markdown",
      "source": [
        "**Q53. Create a NumPy array `arrl with random integers and another array `arr2` with integers from 1 to 5. Perform element-wise multiplication between `arrl` and `arr2`.**"
      ],
      "metadata": {
        "id": "SZtZUf2umoxC"
      },
      "id": "SZtZUf2umoxC"
    },
    {
      "cell_type": "code",
      "execution_count": 71,
      "id": "fe6999b2-7527-40be-be39-4000c44d8457",
      "metadata": {
        "colab": {
          "base_uri": "https://localhost:8080/"
        },
        "id": "fe6999b2-7527-40be-be39-4000c44d8457",
        "outputId": "e112739e-2a2d-4180-8008-f373390b314b"
      },
      "outputs": [
        {
          "output_type": "stream",
          "name": "stdout",
          "text": [
            "Array 1 --> [19 16 21 19 19]\n",
            "Array 2 --> [1 2 3 4 5]\n",
            "Multiplication of Both Array --> [19 32 63 76 95]\n"
          ]
        }
      ],
      "source": [
        "#Q53\n",
        "arr1=np.random.randint(low=12,high=30,size=(5,))\n",
        "arr2=np.array(range(1,6))\n",
        "print(f\"Array 1 --> {arr1}\\nArray 2 --> {arr2}\\nMultiplication of Both Array --> {arr1*arr2}\")"
      ]
    },
    {
      "cell_type": "markdown",
      "source": [
        "**Q54. Generate a NumPy array `arrl with even integers from 2 to 10 and another array `arr2` with integers from i to 5. Perform element-wise division of `arrl by `arr2`.**"
      ],
      "metadata": {
        "id": "DAs5WXtpmpT5"
      },
      "id": "DAs5WXtpmpT5"
    },
    {
      "cell_type": "code",
      "execution_count": 72,
      "id": "cc7513c2-235e-472a-995b-4951fd64d2f7",
      "metadata": {
        "colab": {
          "base_uri": "https://localhost:8080/"
        },
        "id": "cc7513c2-235e-472a-995b-4951fd64d2f7",
        "outputId": "897dbc77-5a14-4afe-9cab-39a3c4d58a4b"
      },
      "outputs": [
        {
          "output_type": "stream",
          "name": "stdout",
          "text": [
            "Array 1 --> [ 2  4  6  8 10]\n",
            "Array 2 --> [1 2 3 4 5]\n",
            "Division of Both Array --> [2. 2. 2. 2. 2.]\n"
          ]
        }
      ],
      "source": [
        "#Q54\n",
        "arr1=np.array(range(2,11,2))\n",
        "arr2=np.array(range(1,6))\n",
        "print(f\"Array 1 --> {arr1}\\nArray 2 --> {arr2}\\nDivision of Both Array --> {arr1/arr2}\")"
      ]
    },
    {
      "cell_type": "markdown",
      "source": [
        "**Q55. Create a NumPy array `arrl with integers from 1 to 5 and another array `arr2` with the same numbers reversed. Calculate the exponentiation of arrl raised to the power of arr2 element-wise.**"
      ],
      "metadata": {
        "id": "zJ_kOpl-mp_d"
      },
      "id": "zJ_kOpl-mp_d"
    },
    {
      "cell_type": "code",
      "execution_count": 73,
      "id": "ad9403a1-48cd-4e2e-b128-a63cefef57fe",
      "metadata": {
        "colab": {
          "base_uri": "https://localhost:8080/"
        },
        "id": "ad9403a1-48cd-4e2e-b128-a63cefef57fe",
        "outputId": "f94b5536-3309-46ad-a814-be5d1e53eb36"
      },
      "outputs": [
        {
          "output_type": "stream",
          "name": "stdout",
          "text": [
            "Array 1 --> [1 2 3 4 5]\n",
            "Array 2 --> [5 4 3 2 1]\n",
            "Exponential of Both Array --> [ 1 16 27 16  5]\n"
          ]
        }
      ],
      "source": [
        "#Q55\n",
        "arr1=np.array(range(1,6))\n",
        "arr2=np.array(range(5,0,-1))\n",
        "print(f\"Array 1 --> {arr1}\\nArray 2 --> {arr2}\\nExponential of Both Array --> {arr1**arr2}\")"
      ]
    },
    {
      "cell_type": "markdown",
      "source": [
        "**Q56. Write a function that counts the occurrences of a specific substring within a NumPy array of strings.**\n",
        "\n",
        "arr = np.array(['hello', 'world', 'hello', 'numpy', 'hello'])"
      ],
      "metadata": {
        "id": "sw4tm4wxmqpU"
      },
      "id": "sw4tm4wxmqpU"
    },
    {
      "cell_type": "code",
      "execution_count": 74,
      "id": "f77abaa9-3f4c-4077-ba44-eb838de07044",
      "metadata": {
        "colab": {
          "base_uri": "https://localhost:8080/"
        },
        "id": "f77abaa9-3f4c-4077-ba44-eb838de07044",
        "outputId": "6935a7c1-a437-4a2a-e42f-248a0c69800e"
      },
      "outputs": [
        {
          "output_type": "stream",
          "name": "stdout",
          "text": [
            "The Total Frequency of the substring he is ---> 3\n"
          ]
        }
      ],
      "source": [
        "#Q56\n",
        "counter=0\n",
        "def Substring_Freq(st):\n",
        "    target=\"he\" #Target substring to look for in the Numpy strings\n",
        "    global counter\n",
        "    while(target in st):\n",
        "        counter+=1  #counting the number of ocurrance of the substring\n",
        "        st=st[((st.find(target))+len(target)):]\n",
        "\n",
        "arr=np.array([\"hello\",\"world\",\"hello\",\"numpy\",\"hello\"])\n",
        "for i in arr:\n",
        "    Substring_Freq(i)\n",
        "\n",
        "print(f\"The Total Frequency of the substring he is ---> {counter}\")"
      ]
    },
    {
      "cell_type": "markdown",
      "source": [
        "**Q57. Write a function that extracts uppercase characters from a NumPy array of strings.\n",
        "arr = np.array(['Hello', 'World', 'OpenAI', 'GPT'])**"
      ],
      "metadata": {
        "id": "GuU_eu6OmrbJ"
      },
      "id": "GuU_eu6OmrbJ"
    },
    {
      "cell_type": "code",
      "execution_count": 75,
      "id": "94524920-6286-4b17-8671-8c36566bb464",
      "metadata": {
        "colab": {
          "base_uri": "https://localhost:8080/"
        },
        "id": "94524920-6286-4b17-8671-8c36566bb464",
        "outputId": "cc91cb39-579d-48a4-b917-a93d3f3af359"
      },
      "outputs": [
        {
          "output_type": "stream",
          "name": "stdout",
          "text": [
            "Extracted UpperCase Characters from the Array of Strings ---> ['Hello' 'World' 'OpenAI' 'GPT'] is ---> ('H', 'W', 'O', 'A', 'I', 'G', 'P', 'T')\n"
          ]
        }
      ],
      "source": [
        "#Q57\n",
        "lst=\"\"\n",
        "def Extract_UpperCase(st):\n",
        "    global lst\n",
        "    lst=lst+\"\".join((filter(str.isupper,st)))\n",
        "\n",
        "arr=np.array(['Hello', 'World', 'OpenAI', 'GPT'])\n",
        "for i in arr:\n",
        "    Extract_UpperCase(i)\n",
        "\n",
        "print(f\"Extracted UpperCase Characters from the Array of Strings ---> {arr} is ---> {tuple(lst)}\")"
      ]
    },
    {
      "cell_type": "markdown",
      "source": [
        "**Q58. Write a function that replaces occurrences of a substring in a NumPy array of strings with a new string.**\n",
        "\n"
      ],
      "metadata": {
        "id": "9qBmkSnMmsDs"
      },
      "id": "9qBmkSnMmsDs"
    },
    {
      "cell_type": "code",
      "execution_count": 76,
      "id": "dddb1197-d253-44bf-9372-c41a1042fc63",
      "metadata": {
        "colab": {
          "base_uri": "https://localhost:8080/"
        },
        "id": "dddb1197-d253-44bf-9372-c41a1042fc63",
        "outputId": "cca1cf3b-2ef9-4505-e547-4fe3f865b2fb"
      },
      "outputs": [
        {
          "output_type": "stream",
          "name": "stdout",
          "text": [
            "Original String --> apple || New String --> aGPT\n",
            "Original String --> banana || New String --> banana\n",
            "Original String --> grape || New String --> grape\n",
            "Original String --> pineapple || New String --> pineaGPT\n"
          ]
        }
      ],
      "source": [
        "#Q58\n",
        "def Replacement(st,target_str,sub_str):\n",
        "    return (st.replace(sub_str,target_str))\n",
        "\n",
        "arr=np.array([\"apple\",\"banana\",\"grape\",\"pineapple\"]); sub_str=\"pple\" ; target_str=\"GPT\"\n",
        "for i in arr:\n",
        "    print(f\"Original String --> {i} || New String --> {Replacement(i,target_str,sub_str)}\")"
      ]
    },
    {
      "cell_type": "markdown",
      "source": [
        "**Q59. Write a function that concatenates strings in a NumPy array element-wise.**\n",
        "\n",
        "* arr1=np.array([\"Hello\",\"World\"],dtype=\"<U5\")\n",
        "* arr2=np.array([\"Open\",\"AI\"],dtype=\"<U5\")"
      ],
      "metadata": {
        "id": "dRmgEU09ms1v"
      },
      "id": "dRmgEU09ms1v"
    },
    {
      "cell_type": "code",
      "execution_count": 77,
      "id": "77ef6106-c15d-4757-ab05-0bad1b05863d",
      "metadata": {
        "colab": {
          "base_uri": "https://localhost:8080/"
        },
        "id": "77ef6106-c15d-4757-ab05-0bad1b05863d",
        "outputId": "88b7f77e-ca01-4723-d8b1-1ed4a641b9f8"
      },
      "outputs": [
        {
          "output_type": "stream",
          "name": "stdout",
          "text": [
            "Array 1 --> ['Hello' 'World']\n",
            "Array 2 --> ['Open' 'AI']\n",
            " Concatinated Array --> ['Hello' 'World' 'Open' 'AI']\n"
          ]
        }
      ],
      "source": [
        "#Q59\n",
        "\n",
        "def Concatinate_String(a1,a2):\n",
        "    return np.concatenate((a1,a2),axis=0)\n",
        "\n",
        "arr1,arr2=np.array([\"Hello\",\"World\"],dtype=\"<U5\"),np.array([\"Open\",\"AI\"],dtype=\"<U5\")\n",
        "#arr2.dtype\n",
        "print(f\"Array 1 --> {arr1}\\nArray 2 --> {arr2}\\n Concatinated Array --> {Concatinate_String(arr1,arr2)}\")"
      ]
    },
    {
      "cell_type": "markdown",
      "source": [
        "**Q60. Write a function that finds the length of the longest string in a NumPy array.**\n",
        "* arr = np.array(['apple', 'banana', 'grape', 'pineapple'])"
      ],
      "metadata": {
        "id": "hltbZt1CmtqV"
      },
      "id": "hltbZt1CmtqV"
    },
    {
      "cell_type": "code",
      "execution_count": 82,
      "id": "d738cf91-5791-4133-abc9-10e2d5352c5d",
      "metadata": {
        "colab": {
          "base_uri": "https://localhost:8080/"
        },
        "id": "d738cf91-5791-4133-abc9-10e2d5352c5d",
        "outputId": "e0bb6897-34d2-42a2-d027-93976e0617f0"
      },
      "outputs": [
        {
          "output_type": "stream",
          "name": "stdout",
          "text": [
            "Array --> ['apple' 'banana' 'grape' 'pineapple']\n",
            "Longest String Length = [5, 6, 5, 9]\n"
          ]
        }
      ],
      "source": [
        "#Q60\n",
        "def Longest_String_len(arr):\n",
        "    return max(map(len,arr))\n",
        "\n",
        "arr = np.array(['apple', 'banana', 'grape', 'pineapple'])\n",
        "print(f\"Array --> {arr}\\nLongest String Length = {Longest_String_len(arr)}\")"
      ]
    },
    {
      "cell_type": "markdown",
      "source": [
        "**Q61. Create a dataset of 100 random integers between 1 and 1000. Compute the mean, median, variance, and\n",
        "standard deviation of the dataset using NumPy's functions.**"
      ],
      "metadata": {
        "id": "7c687zaGmu-l"
      },
      "id": "7c687zaGmu-l"
    },
    {
      "cell_type": "code",
      "execution_count": 102,
      "id": "1ca5cc44-0da5-43a0-9bf1-e7ee78df58ef",
      "metadata": {
        "colab": {
          "base_uri": "https://localhost:8080/"
        },
        "id": "1ca5cc44-0da5-43a0-9bf1-e7ee78df58ef",
        "outputId": "66404dc9-1877-48dd-f695-1eb8d4ae860f"
      },
      "outputs": [
        {
          "output_type": "stream",
          "name": "stdout",
          "text": [
            "Mean\tMedian\tVarience\tStandard Deviation\n",
            "475.12 \t 466.5 \t 86826.60559999997 \t 294.6635464389852\n"
          ]
        }
      ],
      "source": [
        "#Q61\n",
        "\n",
        "df=pd.DataFrame(np.random.randint(low=1,high=1001,size=(100,)),columns=[\"Integers_Data\"])\n",
        "print(f\"Mean\\tMedian\\tVarience\\tStandard Deviation\")\n",
        "print(np.mean(df[\"Integers_Data\"]),\"\\t\",np.median(df[\"Integers_Data\"]),\"\\t\",np.var(df[\"Integers_Data\"]),\"\\t\",np.std(df[\"Integers_Data\"]))"
      ]
    },
    {
      "cell_type": "markdown",
      "source": [
        "**Q62. Generate an array of 50 random numbers between 1 and 100. Find the 25th and 75th percentiles of the\n",
        "dataset.**"
      ],
      "metadata": {
        "id": "x5MKLYffmvw_"
      },
      "id": "x5MKLYffmvw_"
    },
    {
      "cell_type": "code",
      "execution_count": 101,
      "id": "f1dddbba-86b7-48d1-a75c-ef93127281a9",
      "metadata": {
        "colab": {
          "base_uri": "https://localhost:8080/",
          "height": 112
        },
        "id": "f1dddbba-86b7-48d1-a75c-ef93127281a9",
        "outputId": "7a62a27b-26bd-47cb-a839-844c22d2c738"
      },
      "outputs": [
        {
          "output_type": "execute_result",
          "data": {
            "text/plain": [
              "     Integers_Data\n",
              "25%           20.0\n",
              "75%           80.0"
            ],
            "text/html": [
              "\n",
              "  <div id=\"df-a74a6b43-7757-4edf-85a6-97fe0b223a31\" class=\"colab-df-container\">\n",
              "    <div>\n",
              "<style scoped>\n",
              "    .dataframe tbody tr th:only-of-type {\n",
              "        vertical-align: middle;\n",
              "    }\n",
              "\n",
              "    .dataframe tbody tr th {\n",
              "        vertical-align: top;\n",
              "    }\n",
              "\n",
              "    .dataframe thead th {\n",
              "        text-align: right;\n",
              "    }\n",
              "</style>\n",
              "<table border=\"1\" class=\"dataframe\">\n",
              "  <thead>\n",
              "    <tr style=\"text-align: right;\">\n",
              "      <th></th>\n",
              "      <th>Integers_Data</th>\n",
              "    </tr>\n",
              "  </thead>\n",
              "  <tbody>\n",
              "    <tr>\n",
              "      <th>25%</th>\n",
              "      <td>20.0</td>\n",
              "    </tr>\n",
              "    <tr>\n",
              "      <th>75%</th>\n",
              "      <td>80.0</td>\n",
              "    </tr>\n",
              "  </tbody>\n",
              "</table>\n",
              "</div>\n",
              "    <div class=\"colab-df-buttons\">\n",
              "\n",
              "  <div class=\"colab-df-container\">\n",
              "    <button class=\"colab-df-convert\" onclick=\"convertToInteractive('df-a74a6b43-7757-4edf-85a6-97fe0b223a31')\"\n",
              "            title=\"Convert this dataframe to an interactive table.\"\n",
              "            style=\"display:none;\">\n",
              "\n",
              "  <svg xmlns=\"http://www.w3.org/2000/svg\" height=\"24px\" viewBox=\"0 -960 960 960\">\n",
              "    <path d=\"M120-120v-720h720v720H120Zm60-500h600v-160H180v160Zm220 220h160v-160H400v160Zm0 220h160v-160H400v160ZM180-400h160v-160H180v160Zm440 0h160v-160H620v160ZM180-180h160v-160H180v160Zm440 0h160v-160H620v160Z\"/>\n",
              "  </svg>\n",
              "    </button>\n",
              "\n",
              "  <style>\n",
              "    .colab-df-container {\n",
              "      display:flex;\n",
              "      gap: 12px;\n",
              "    }\n",
              "\n",
              "    .colab-df-convert {\n",
              "      background-color: #E8F0FE;\n",
              "      border: none;\n",
              "      border-radius: 50%;\n",
              "      cursor: pointer;\n",
              "      display: none;\n",
              "      fill: #1967D2;\n",
              "      height: 32px;\n",
              "      padding: 0 0 0 0;\n",
              "      width: 32px;\n",
              "    }\n",
              "\n",
              "    .colab-df-convert:hover {\n",
              "      background-color: #E2EBFA;\n",
              "      box-shadow: 0px 1px 2px rgba(60, 64, 67, 0.3), 0px 1px 3px 1px rgba(60, 64, 67, 0.15);\n",
              "      fill: #174EA6;\n",
              "    }\n",
              "\n",
              "    .colab-df-buttons div {\n",
              "      margin-bottom: 4px;\n",
              "    }\n",
              "\n",
              "    [theme=dark] .colab-df-convert {\n",
              "      background-color: #3B4455;\n",
              "      fill: #D2E3FC;\n",
              "    }\n",
              "\n",
              "    [theme=dark] .colab-df-convert:hover {\n",
              "      background-color: #434B5C;\n",
              "      box-shadow: 0px 1px 3px 1px rgba(0, 0, 0, 0.15);\n",
              "      filter: drop-shadow(0px 1px 2px rgba(0, 0, 0, 0.3));\n",
              "      fill: #FFFFFF;\n",
              "    }\n",
              "  </style>\n",
              "\n",
              "    <script>\n",
              "      const buttonEl =\n",
              "        document.querySelector('#df-a74a6b43-7757-4edf-85a6-97fe0b223a31 button.colab-df-convert');\n",
              "      buttonEl.style.display =\n",
              "        google.colab.kernel.accessAllowed ? 'block' : 'none';\n",
              "\n",
              "      async function convertToInteractive(key) {\n",
              "        const element = document.querySelector('#df-a74a6b43-7757-4edf-85a6-97fe0b223a31');\n",
              "        const dataTable =\n",
              "          await google.colab.kernel.invokeFunction('convertToInteractive',\n",
              "                                                    [key], {});\n",
              "        if (!dataTable) return;\n",
              "\n",
              "        const docLinkHtml = 'Like what you see? Visit the ' +\n",
              "          '<a target=\"_blank\" href=https://colab.research.google.com/notebooks/data_table.ipynb>data table notebook</a>'\n",
              "          + ' to learn more about interactive tables.';\n",
              "        element.innerHTML = '';\n",
              "        dataTable['output_type'] = 'display_data';\n",
              "        await google.colab.output.renderOutput(dataTable, element);\n",
              "        const docLink = document.createElement('div');\n",
              "        docLink.innerHTML = docLinkHtml;\n",
              "        element.appendChild(docLink);\n",
              "      }\n",
              "    </script>\n",
              "  </div>\n",
              "\n",
              "\n",
              "<div id=\"df-82591b8e-fe7a-4042-aa7d-93f0a0315ed8\">\n",
              "  <button class=\"colab-df-quickchart\" onclick=\"quickchart('df-82591b8e-fe7a-4042-aa7d-93f0a0315ed8')\"\n",
              "            title=\"Suggest charts\"\n",
              "            style=\"display:none;\">\n",
              "\n",
              "<svg xmlns=\"http://www.w3.org/2000/svg\" height=\"24px\"viewBox=\"0 0 24 24\"\n",
              "     width=\"24px\">\n",
              "    <g>\n",
              "        <path d=\"M19 3H5c-1.1 0-2 .9-2 2v14c0 1.1.9 2 2 2h14c1.1 0 2-.9 2-2V5c0-1.1-.9-2-2-2zM9 17H7v-7h2v7zm4 0h-2V7h2v10zm4 0h-2v-4h2v4z\"/>\n",
              "    </g>\n",
              "</svg>\n",
              "  </button>\n",
              "\n",
              "<style>\n",
              "  .colab-df-quickchart {\n",
              "      --bg-color: #E8F0FE;\n",
              "      --fill-color: #1967D2;\n",
              "      --hover-bg-color: #E2EBFA;\n",
              "      --hover-fill-color: #174EA6;\n",
              "      --disabled-fill-color: #AAA;\n",
              "      --disabled-bg-color: #DDD;\n",
              "  }\n",
              "\n",
              "  [theme=dark] .colab-df-quickchart {\n",
              "      --bg-color: #3B4455;\n",
              "      --fill-color: #D2E3FC;\n",
              "      --hover-bg-color: #434B5C;\n",
              "      --hover-fill-color: #FFFFFF;\n",
              "      --disabled-bg-color: #3B4455;\n",
              "      --disabled-fill-color: #666;\n",
              "  }\n",
              "\n",
              "  .colab-df-quickchart {\n",
              "    background-color: var(--bg-color);\n",
              "    border: none;\n",
              "    border-radius: 50%;\n",
              "    cursor: pointer;\n",
              "    display: none;\n",
              "    fill: var(--fill-color);\n",
              "    height: 32px;\n",
              "    padding: 0;\n",
              "    width: 32px;\n",
              "  }\n",
              "\n",
              "  .colab-df-quickchart:hover {\n",
              "    background-color: var(--hover-bg-color);\n",
              "    box-shadow: 0 1px 2px rgba(60, 64, 67, 0.3), 0 1px 3px 1px rgba(60, 64, 67, 0.15);\n",
              "    fill: var(--button-hover-fill-color);\n",
              "  }\n",
              "\n",
              "  .colab-df-quickchart-complete:disabled,\n",
              "  .colab-df-quickchart-complete:disabled:hover {\n",
              "    background-color: var(--disabled-bg-color);\n",
              "    fill: var(--disabled-fill-color);\n",
              "    box-shadow: none;\n",
              "  }\n",
              "\n",
              "  .colab-df-spinner {\n",
              "    border: 2px solid var(--fill-color);\n",
              "    border-color: transparent;\n",
              "    border-bottom-color: var(--fill-color);\n",
              "    animation:\n",
              "      spin 1s steps(1) infinite;\n",
              "  }\n",
              "\n",
              "  @keyframes spin {\n",
              "    0% {\n",
              "      border-color: transparent;\n",
              "      border-bottom-color: var(--fill-color);\n",
              "      border-left-color: var(--fill-color);\n",
              "    }\n",
              "    20% {\n",
              "      border-color: transparent;\n",
              "      border-left-color: var(--fill-color);\n",
              "      border-top-color: var(--fill-color);\n",
              "    }\n",
              "    30% {\n",
              "      border-color: transparent;\n",
              "      border-left-color: var(--fill-color);\n",
              "      border-top-color: var(--fill-color);\n",
              "      border-right-color: var(--fill-color);\n",
              "    }\n",
              "    40% {\n",
              "      border-color: transparent;\n",
              "      border-right-color: var(--fill-color);\n",
              "      border-top-color: var(--fill-color);\n",
              "    }\n",
              "    60% {\n",
              "      border-color: transparent;\n",
              "      border-right-color: var(--fill-color);\n",
              "    }\n",
              "    80% {\n",
              "      border-color: transparent;\n",
              "      border-right-color: var(--fill-color);\n",
              "      border-bottom-color: var(--fill-color);\n",
              "    }\n",
              "    90% {\n",
              "      border-color: transparent;\n",
              "      border-bottom-color: var(--fill-color);\n",
              "    }\n",
              "  }\n",
              "</style>\n",
              "\n",
              "  <script>\n",
              "    async function quickchart(key) {\n",
              "      const quickchartButtonEl =\n",
              "        document.querySelector('#' + key + ' button');\n",
              "      quickchartButtonEl.disabled = true;  // To prevent multiple clicks.\n",
              "      quickchartButtonEl.classList.add('colab-df-spinner');\n",
              "      try {\n",
              "        const charts = await google.colab.kernel.invokeFunction(\n",
              "            'suggestCharts', [key], {});\n",
              "      } catch (error) {\n",
              "        console.error('Error during call to suggestCharts:', error);\n",
              "      }\n",
              "      quickchartButtonEl.classList.remove('colab-df-spinner');\n",
              "      quickchartButtonEl.classList.add('colab-df-quickchart-complete');\n",
              "    }\n",
              "    (() => {\n",
              "      let quickchartButtonEl =\n",
              "        document.querySelector('#df-82591b8e-fe7a-4042-aa7d-93f0a0315ed8 button');\n",
              "      quickchartButtonEl.style.display =\n",
              "        google.colab.kernel.accessAllowed ? 'block' : 'none';\n",
              "    })();\n",
              "  </script>\n",
              "</div>\n",
              "\n",
              "    </div>\n",
              "  </div>\n"
            ],
            "application/vnd.google.colaboratory.intrinsic+json": {
              "type": "dataframe",
              "summary": "{\n  \"name\": \"(df\",\n  \"rows\": 2,\n  \"fields\": [\n    {\n      \"column\": \"Integers_Data\",\n      \"properties\": {\n        \"dtype\": \"number\",\n        \"std\": 42.42640687119285,\n        \"min\": 20.0,\n        \"max\": 80.0,\n        \"num_unique_values\": 2,\n        \"samples\": [\n          80.0,\n          20.0\n        ],\n        \"semantic_type\": \"\",\n        \"description\": \"\"\n      }\n    }\n  ]\n}"
            }
          },
          "metadata": {},
          "execution_count": 101
        }
      ],
      "source": [
        "#Q62\n",
        "df=pd.DataFrame(np.random.randint(low=1,high=101,size=(50,)),columns=[\"Integers_Data\"])\n",
        "(df.describe()).loc[[\"25%\",\"75%\"]]"
      ]
    },
    {
      "cell_type": "markdown",
      "source": [
        "**Q63. Create two arrays representing two sets of variables. Compute the correlation coefficient between these\n",
        "arrays using NumPy's `corrcoef` function.**"
      ],
      "metadata": {
        "id": "n3Lj7ERfmx9b"
      },
      "id": "n3Lj7ERfmx9b"
    },
    {
      "cell_type": "code",
      "execution_count": null,
      "id": "0ff8eaee-da4d-4914-850f-1dbde5457dc7",
      "metadata": {
        "id": "0ff8eaee-da4d-4914-850f-1dbde5457dc7"
      },
      "outputs": [],
      "source": [
        "#Q63"
      ]
    },
    {
      "cell_type": "markdown",
      "source": [
        "**Q64. Create two matrices and perform matrix multiplication using NumPy's `dot` function.**"
      ],
      "metadata": {
        "id": "gAs41ghdmxHx"
      },
      "id": "gAs41ghdmxHx"
    },
    {
      "cell_type": "code",
      "execution_count": 100,
      "id": "a3177bc7-f667-4073-bbaa-46addadd72c6",
      "metadata": {
        "colab": {
          "base_uri": "https://localhost:8080/"
        },
        "id": "a3177bc7-f667-4073-bbaa-46addadd72c6",
        "outputId": "2cc07699-b5e1-4a6c-9767-773a95d1fd1d"
      },
      "outputs": [
        {
          "output_type": "stream",
          "name": "stdout",
          "text": [
            "Matrix 1 : \n",
            "[[ 3  7  6  3]\n",
            " [ 8  8  8 10]\n",
            " [ 6  7  5  5]]\n",
            "Matrix 2 : \n",
            "[[10  8  7  9]\n",
            " [ 3  6  6 10]\n",
            " [ 6  3  8 10]\n",
            " [ 5  4  3  6]]\n",
            " Dot Product : \n",
            "[[102  96 120 175]\n",
            " [202 176 198 292]\n",
            " [136 125 139 204]]\n"
          ]
        }
      ],
      "source": [
        "#Q64\n",
        "mat1,mat2=np.matrix(np.random.randint(low=1,high=11,size=(12,)).reshape(3,4)),np.matrix(np.random.randint(low=1,high=11,size=(16,)).reshape(4,4))\n",
        "print(f\"Matrix 1 : \\n{mat1}\\nMatrix 2 : \\n{mat2}\\n Dot Product : \\n{np.dot(mat1,mat2)}\")"
      ]
    },
    {
      "cell_type": "markdown",
      "source": [
        "**Q65 Create an array of 50 integers between 10 and 1000. Calculate the 10th, 50th (median), and 90th\n",
        "percentiles along with the first and third quartiles.**"
      ],
      "metadata": {
        "id": "NekV7ECBmzDU"
      },
      "id": "NekV7ECBmzDU"
    },
    {
      "cell_type": "code",
      "execution_count": null,
      "id": "fa1cd64f-533e-473f-9023-504feb70dca0",
      "metadata": {
        "id": "fa1cd64f-533e-473f-9023-504feb70dca0"
      },
      "outputs": [],
      "source": [
        "#Q65\n",
        "\n"
      ]
    },
    {
      "cell_type": "markdown",
      "source": [
        "**Q66 Create a NumPy array of integers and find the index of a specific element.**"
      ],
      "metadata": {
        "id": "XGt2cq3Hm0Ab"
      },
      "id": "XGt2cq3Hm0Ab"
    },
    {
      "cell_type": "code",
      "execution_count": 88,
      "id": "8b4660b4-40f4-4d98-a649-dd88feeca5b2",
      "metadata": {
        "colab": {
          "base_uri": "https://localhost:8080/"
        },
        "id": "8b4660b4-40f4-4d98-a649-dd88feeca5b2",
        "outputId": "9f5fc48a-cc2e-411b-afcb-9ac2df0f00e1"
      },
      "outputs": [
        {
          "output_type": "stream",
          "name": "stdout",
          "text": [
            "Row and Column coordinate (array([5]),)\n"
          ]
        }
      ],
      "source": [
        "#Q66\n",
        "arr_2d=np.array([[1,2,50],[4,54,5],[2,8,2]])\n",
        "\n",
        "row=np.where(arr_2d.ravel()==5)\n",
        "print(f\"Row and Column coordinate {row}\")"
      ]
    },
    {
      "cell_type": "markdown",
      "source": [
        "**Q67 Generate a random NumPy array and sort it in ascending order.**"
      ],
      "metadata": {
        "id": "gIu9uQucm015"
      },
      "id": "gIu9uQucm015"
    },
    {
      "cell_type": "code",
      "execution_count": 89,
      "id": "f5aae998-42eb-493f-a100-d5f488391b2a",
      "metadata": {
        "colab": {
          "base_uri": "https://localhost:8080/"
        },
        "id": "f5aae998-42eb-493f-a100-d5f488391b2a",
        "outputId": "dc6942da-5145-4421-a0d1-15ac2f5673df"
      },
      "outputs": [
        {
          "output_type": "stream",
          "name": "stdout",
          "text": [
            "Unsorted Array --> [15 11 16  5 18 12  6 17 12 13]\n",
            "Sorted Array -->[ 5  6 11 12 12 13 15 16 17 18]\n"
          ]
        }
      ],
      "source": [
        "#Q67\n",
        "arr=np.random.randint(low=5,high=20,size=(10,))\n",
        "print(f\"Unsorted Array --> {arr}\\nSorted Array -->{np.sort(arr)}\")"
      ]
    },
    {
      "cell_type": "markdown",
      "source": [
        "**Q68 Filter elements >20 in the given NumPy array.**\n",
        "* arr=np.array([12,25,6,42,8,30])"
      ],
      "metadata": {
        "id": "LDPScdcBm2fW"
      },
      "id": "LDPScdcBm2fW"
    },
    {
      "cell_type": "code",
      "execution_count": 90,
      "id": "71dce056-2f1f-43f0-a51d-39b59bcd1789",
      "metadata": {
        "colab": {
          "base_uri": "https://localhost:8080/"
        },
        "id": "71dce056-2f1f-43f0-a51d-39b59bcd1789",
        "outputId": "f7ed3dfe-f048-4cd4-cf0e-92bc13247cae"
      },
      "outputs": [
        {
          "output_type": "stream",
          "name": "stdout",
          "text": [
            "Original Array--> [12 25  6 42  8 30]\n",
            "Filtred Array >20 [25 42 30]\n"
          ]
        }
      ],
      "source": [
        "#Q68\n",
        "\n",
        "arr=np.array([12,25,6,42,8,30])\n",
        "print(f\"Original Array--> {arr}\\nFiltred Array >20 {arr[arr>20]}\")"
      ]
    },
    {
      "cell_type": "markdown",
      "source": [
        "**Q69. Filter elements which are divisible by 3 from a given NumPy array.**\n",
        "arr=np.array([1,5,8,12,15])"
      ],
      "metadata": {
        "id": "bnSWGzvOm3Wj"
      },
      "id": "bnSWGzvOm3Wj"
    },
    {
      "cell_type": "code",
      "execution_count": 91,
      "id": "4a4cf1d4-fcb7-4229-8c99-b4a1da640853",
      "metadata": {
        "colab": {
          "base_uri": "https://localhost:8080/"
        },
        "id": "4a4cf1d4-fcb7-4229-8c99-b4a1da640853",
        "outputId": "2d036d44-fd6f-49a0-9f8a-f34616f2c07e"
      },
      "outputs": [
        {
          "output_type": "stream",
          "name": "stdout",
          "text": [
            "Original Array --> [ 1  5  8 12 15]\n",
            "Elements Div by 3-->(12, 15)\n"
          ]
        }
      ],
      "source": [
        "#Q69\n",
        "\n",
        "arr=np.array([1,5,8,12,15])\n",
        "print(f\"Original Array --> {arr}\\nElements Div by 3-->{tuple(filter((lambda x: True if(x%3==0) else False),arr))}\")"
      ]
    },
    {
      "cell_type": "markdown",
      "source": [
        "**Q70. Filter elements which are ≥ 20 and ≤ 40 from a given NumPy array.**\n",
        "arr=np.array([10,20,30,40,50])"
      ],
      "metadata": {
        "id": "kqybGVJ5pwQD"
      },
      "id": "kqybGVJ5pwQD"
    },
    {
      "cell_type": "code",
      "execution_count": null,
      "id": "f75e1dd7-f20a-4dad-b7c5-f0237ff9366d",
      "metadata": {
        "id": "f75e1dd7-f20a-4dad-b7c5-f0237ff9366d",
        "outputId": "5a9a62b1-e76e-41b1-9c71-a0dbd3f59c94"
      },
      "outputs": [
        {
          "name": "stdout",
          "output_type": "stream",
          "text": [
            "Original Array --> [10 20 30 40 50]\n",
            "Elements ≥ 20 and ≤ 40-->(20, 30, 40)\n"
          ]
        }
      ],
      "source": [
        "#Q70\n",
        "arr=np.array([10,20,30,40,50])\n",
        "print(f\"Original Array --> {arr}\\nElements ≥ 20 and ≤ 40-->{tuple(filter((lambda x: True if(x>=20 and x<=40) else False),arr))}\")"
      ]
    },
    {
      "cell_type": "markdown",
      "source": [
        "**Q71. For the given NumPy array, check its byte order using the `dtype` attribute byteorder.**\n",
        "arr=np.array([1,2,3])"
      ],
      "metadata": {
        "id": "KvQkEAgspvOb"
      },
      "id": "KvQkEAgspvOb"
    },
    {
      "cell_type": "code",
      "execution_count": 103,
      "id": "9bb61116-6221-4ac4-92b8-4fdcb5f234c6",
      "metadata": {
        "colab": {
          "base_uri": "https://localhost:8080/"
        },
        "id": "9bb61116-6221-4ac4-92b8-4fdcb5f234c6",
        "outputId": "3d1d06ca-f343-4d7a-fcd6-979bf1e48e28"
      },
      "outputs": [
        {
          "output_type": "stream",
          "name": "stdout",
          "text": [
            "Array-->[1 2 3]\n",
            "Byte Order-->int64\n"
          ]
        }
      ],
      "source": [
        "#Q71\n",
        "arr=np.array([1,2,3])\n",
        "print(f\"Array-->{arr}\\nByte Order-->{arr.dtype}\")"
      ]
    },
    {
      "cell_type": "markdown",
      "source": [
        "**Q72. For the given NumPy array, perform byte swapping in place using `byteswap()`.**\n",
        "np.array([1,2,3],dtype=np.int32)"
      ],
      "metadata": {
        "id": "fnSlqHNWpuZX"
      },
      "id": "fnSlqHNWpuZX"
    },
    {
      "cell_type": "code",
      "execution_count": 104,
      "id": "f8c2d54c-41e2-4d94-bbb2-16b3f38285e0",
      "metadata": {
        "colab": {
          "base_uri": "https://localhost:8080/"
        },
        "id": "f8c2d54c-41e2-4d94-bbb2-16b3f38285e0",
        "outputId": "4230bb3b-b4a2-4fd3-c967-adf679edd11d"
      },
      "outputs": [
        {
          "output_type": "stream",
          "name": "stdout",
          "text": [
            "Original byte order:=\n",
            "Swapped byte order:=\n"
          ]
        }
      ],
      "source": [
        "#Q72\n",
        "\n",
        "arr=np.array([1,2,3],dtype=np.int32)\n",
        "print(f\"Original byte order:{arr.dtype.byteorder}\")\n",
        "\n",
        "arr.byteswap()\n",
        "print(f\"Swapped byte order:{arr.dtype.byteorder}\")"
      ]
    },
    {
      "cell_type": "markdown",
      "source": [
        "**Q75.For the given NumPy array, check if byte swapping is necessary for the current system using `dtype`\n",
        "attribute `byteorder`.**\n",
        "\n",
        "np.array([1,2,3],dtype=np.int32)"
      ],
      "metadata": {
        "id": "FdcWqhTiptAi"
      },
      "id": "FdcWqhTiptAi"
    },
    {
      "cell_type": "code",
      "execution_count": null,
      "id": "b3ac2400-a5a3-4e08-b601-95651c75bb19",
      "metadata": {
        "id": "b3ac2400-a5a3-4e08-b601-95651c75bb19"
      },
      "outputs": [],
      "source": [
        "#Q75\n"
      ]
    },
    {
      "cell_type": "markdown",
      "source": [
        "**Q76. Create a NumPy array `arr1` with values from 1 to 10. Create a copy of `arr1` named `copy_arr` and modify\n",
        "an element in `copy_arr`. Check if modifying `copy_arr` affects `arr1`.**"
      ],
      "metadata": {
        "id": "ioBXLnG1pstP"
      },
      "id": "ioBXLnG1pstP"
    },
    {
      "cell_type": "code",
      "execution_count": 105,
      "id": "0d770494-b1ab-4d5d-b262-909ba33d2ec5",
      "metadata": {
        "colab": {
          "base_uri": "https://localhost:8080/"
        },
        "id": "0d770494-b1ab-4d5d-b262-909ba33d2ec5",
        "outputId": "884add20-0520-40ab-f789-8209a71aa967"
      },
      "outputs": [
        {
          "output_type": "stream",
          "name": "stdout",
          "text": [
            "Original Array Before Modification in copy --> [ 1 10  3  7  6  2  9  1  5  5]\n",
            "Original Array After Modification in copy --> [ 1 10  3  7  6  2  9  1  5  5]\n"
          ]
        }
      ],
      "source": [
        "#Q76\n",
        "\n",
        "arr1=np.random.randint(low=1,high=11,size=(10,))\n",
        "copy_arr=np.copy(arr1)  #Creating a copy of the original array\n",
        "print(f\"Original Array Before Modification in copy --> {arr1}\")\n",
        "copy_arr[5]=7878  #Modification in copy\n",
        "print(f\"Original Array After Modification in copy --> {arr1}\")  #No effect on Original Array"
      ]
    },
    {
      "cell_type": "markdown",
      "source": [
        "**Q77. Create a 2D NumPy array `matrix` of shape (3, 3) with random integers. Extract a slice `view_slice` from\n",
        "the matrix. Modify an element in `view_slice` and observe if it changes the original `matrix`.**"
      ],
      "metadata": {
        "id": "A6YN2DbvpsF7"
      },
      "id": "A6YN2DbvpsF7"
    },
    {
      "cell_type": "code",
      "execution_count": 106,
      "id": "bd644ab3-6682-4d0e-9e28-a753121ce959",
      "metadata": {
        "colab": {
          "base_uri": "https://localhost:8080/"
        },
        "id": "bd644ab3-6682-4d0e-9e28-a753121ce959",
        "outputId": "59e2cc0c-719b-4bf5-bfea-3bd749f6ad56"
      },
      "outputs": [
        {
          "output_type": "stream",
          "name": "stdout",
          "text": [
            "Matrix Before Modifying View_Slice : \n",
            "[[10 15  6]\n",
            " [14  8  7]\n",
            " [17  9  8]]\n",
            "Matrix After Modifying View_Slice : \n",
            "[[  10   15    6]\n",
            " [  14 9999    7]\n",
            " [  17    9    8]]\n"
          ]
        }
      ],
      "source": [
        "#Q77\n",
        "\n",
        "mat=np.asmatrix(np.random.randint(low=5,high=20,size=(3,3)))\n",
        "print(f\"Matrix Before Modifying View_Slice : \\n{mat}\")\n",
        "view_slice=mat[0:2,0:2]  #Slicing the original matrix\n",
        "view_slice[1,1]=9999  #Modifying an elemnt in View Slice\n",
        "print(f\"Matrix After Modifying View_Slice : \\n{mat}\") #Modification changes are reflected in the Original Matrix too"
      ]
    },
    {
      "cell_type": "markdown",
      "source": [
        "**Q78. Create a NumPy array `array_a` of shape (4, 3) with sequential integers from 1 to 12. Extract a slice\n",
        "`view_b` from `array_a` and broadcast the addition of 5 to view_b. Check if it alters the original `array_a`.**"
      ],
      "metadata": {
        "id": "8-HxxFF8prZf"
      },
      "id": "8-HxxFF8prZf"
    },
    {
      "cell_type": "code",
      "execution_count": 107,
      "id": "2944953c-7f3d-4cc3-84e3-4cb0457b652e",
      "metadata": {
        "colab": {
          "base_uri": "https://localhost:8080/"
        },
        "id": "2944953c-7f3d-4cc3-84e3-4cb0457b652e",
        "outputId": "2a6dd82d-c618-4e79-a24f-89c19f3349cd"
      },
      "outputs": [
        {
          "output_type": "stream",
          "name": "stdout",
          "text": [
            "Array A before broadcating --> [ 1  2  3  4  5  6  7  8  9 10 11 12]\n",
            "Broadcasting Addition of 5 to Array B --> [ 6  7  8  9 10]\n",
            "Array A After broadcating --> [ 1  2  3  4  5  6  7  8  9 10 11 12]\n"
          ]
        }
      ],
      "source": [
        "#Q78\n",
        "\n",
        "array_a=np.arange(1,13)\n",
        "view_b=array_a[0:5]\n",
        "print(f\"Array A before broadcating --> {array_a}\")\n",
        "print(f\"Broadcasting Addition of 5 to Array B --> {view_b+5}\")\n",
        "print(f\"Array A After broadcating --> {array_a}\")  #No changes where reflected"
      ]
    },
    {
      "cell_type": "markdown",
      "source": [
        "**Q79.  Create a NumPy array `orig_array` of shape (2, 4) with values from 1 to 8. Create a reshaped view\n",
        "`reshaped_view` of shape (4, 2) from orig_array. Modify an element in `reshaped_view` and check if it\n",
        "reflects changes in the original `orig_array`.**"
      ],
      "metadata": {
        "id": "BAbHr9nCpq4t"
      },
      "id": "BAbHr9nCpq4t"
    },
    {
      "cell_type": "code",
      "execution_count": 108,
      "id": "94a32192-97c2-49a8-9970-60003c8501ad",
      "metadata": {
        "colab": {
          "base_uri": "https://localhost:8080/"
        },
        "id": "94a32192-97c2-49a8-9970-60003c8501ad",
        "outputId": "bf7a8765-ff74-494f-81c3-21ee7ef7e4ce"
      },
      "outputs": [
        {
          "output_type": "stream",
          "name": "stdout",
          "text": [
            "Original Array : \n",
            "[[7 5 6 2]\n",
            " [6 4 6 7]]\n",
            "Reshaped Array : \n",
            "[[7 5]\n",
            " [6 2]\n",
            " [6 4]\n",
            " [6 7]]\n",
            "\n",
            "AFTER MODIFICATION \n",
            "\n",
            "Original Array : \n",
            "[[   7    5    6    2]\n",
            " [   6    4    6 -999]]\n",
            "Reshaped Array : \n",
            "[[   7    5]\n",
            " [   6    2]\n",
            " [   6    4]\n",
            " [   6 -999]]\n"
          ]
        }
      ],
      "source": [
        "#Q79\n",
        "\n",
        "orig_array=np.random.randint(low=1,high=9,size=(2,4))\n",
        "reshaped_view=np.reshape(orig_array,(4,2))\n",
        "print(f\"Original Array : \\n{orig_array}\\nReshaped Array : \\n{reshaped_view}\")\n",
        "reshaped_view[3,1]=-999  #Changing an elemnt in Reshaped_view array\n",
        "print(\"\\nAFTER MODIFICATION \\n\")\n",
        "print(f\"Original Array : \\n{orig_array}\\nReshaped Array : \\n{reshaped_view}\") #Modification changes are reflected in the Original Array too"
      ]
    },
    {
      "cell_type": "markdown",
      "source": [
        "**Q80. create a NumPy array `data` of shape (3, 4) with random integers. Extract a copy `data_copy` of\n",
        "elements greater than 5. Modify an element in `data_copy` and verify if it affects the original `data'**"
      ],
      "metadata": {
        "id": "UlZCs5gOpqSL"
      },
      "id": "UlZCs5gOpqSL"
    },
    {
      "cell_type": "code",
      "execution_count": 109,
      "id": "14a5dc57-d3d9-46c8-9650-b7cff39fe470",
      "metadata": {
        "colab": {
          "base_uri": "https://localhost:8080/"
        },
        "id": "14a5dc57-d3d9-46c8-9650-b7cff39fe470",
        "outputId": "12638890-4a7f-4984-827c-3b7021a9f20b"
      },
      "outputs": [
        {
          "output_type": "stream",
          "name": "stdout",
          "text": [
            "[[ 6  2 18  1]\n",
            " [11 14 18 15]\n",
            " [ 7 11 19 19]]\n",
            "\n",
            " [ 6 18 11 14 18 15  7 11 19 19]\n",
            "\n",
            "AFTER MODIFICATION \n",
            "\n",
            "\n",
            " [[ 6  2 18  1]\n",
            " [11 14 18 15]\n",
            " [ 7 11 19 19]]\n"
          ]
        }
      ],
      "source": [
        "#Q80\n",
        "data=np.random.randint(low=1,high=20,size=(3,4))   #Creating an Array of Random integers of size 3x4\n",
        "copy_data=data[data>5] #Creating a copy of the Filtred Array\n",
        "print(data)\n",
        "print(\"\\n\",copy_data)\n",
        "copy_data[5]=777777  #Modifying an element in the copy_data array\n",
        "print(\"\\nAFTER MODIFICATION \\n\")\n",
        "print(\"\\n\",data)  #No effect on the Original data Array"
      ]
    },
    {
      "cell_type": "markdown",
      "source": [
        "**Q81.Create two matrices A and B of identical shape containing integers and perform addition and subtraction\n",
        "operations between them.**"
      ],
      "metadata": {
        "id": "klf5K5mopp1S"
      },
      "id": "klf5K5mopp1S"
    },
    {
      "cell_type": "code",
      "execution_count": 110,
      "id": "a8c863c1-1b5a-4363-8168-49bc8e1f53d7",
      "metadata": {
        "colab": {
          "base_uri": "https://localhost:8080/"
        },
        "id": "a8c863c1-1b5a-4363-8168-49bc8e1f53d7",
        "outputId": "a43d05ce-9624-4cde-c252-7d7173769648"
      },
      "outputs": [
        {
          "output_type": "stream",
          "name": "stdout",
          "text": [
            "Matrix 1: \n",
            "[[ 8  8]\n",
            " [11  6]\n",
            " [ 5 14]]\n",
            "Matrix 2 : \n",
            "[[17 14]\n",
            " [16 14]\n",
            " [ 7 12]]\n",
            "Matrix 1 + Matrix 2 : \n",
            " [[25 22]\n",
            " [27 20]\n",
            " [12 26]]\n",
            "Matrix 1 - Matrix 2 : \n",
            " [[-9 -6]\n",
            " [-5 -8]\n",
            " [-2  2]]\n"
          ]
        }
      ],
      "source": [
        "#Q81\n",
        "A,B=np.asmatrix(np.random.randint(low=5,high=20,size=(3,2))),np.asmatrix(np.random.randint(low=5,high=20,size=(3,2)))\n",
        "print(f\"Matrix 1: \\n{A}\\nMatrix 2 : \\n{B}\\nMatrix 1 + Matrix 2 : \\n {A+B}\\nMatrix 1 - Matrix 2 : \\n {A-B}\")"
      ]
    },
    {
      "cell_type": "markdown",
      "source": [
        "**Q82. Generate two matrices `C` (3x2) and `D` (2x4) and perform matrix multiplication.**"
      ],
      "metadata": {
        "id": "W40IgYJzppVn"
      },
      "id": "W40IgYJzppVn"
    },
    {
      "cell_type": "code",
      "execution_count": 111,
      "id": "70c0aa77-4363-403b-ae7d-782db25e8993",
      "metadata": {
        "colab": {
          "base_uri": "https://localhost:8080/"
        },
        "id": "70c0aa77-4363-403b-ae7d-782db25e8993",
        "outputId": "739045fc-87ed-4a51-81e4-07a86508243f"
      },
      "outputs": [
        {
          "output_type": "stream",
          "name": "stdout",
          "text": [
            "Matrix 1: \n",
            "[[14  5]\n",
            " [10  9]\n",
            " [16  5]]\n",
            "Matrix 2 : \n",
            "[[15 11 15 14]\n",
            " [10 10 19 16]]\n",
            " Matrix 1 X Matrix 2 : \n",
            " [[260 204 305 276]\n",
            " [240 200 321 284]\n",
            " [290 226 335 304]]\n"
          ]
        }
      ],
      "source": [
        "#Q82\n",
        "C,D=np.asmatrix(np.random.randint(low=5,high=20,size=(3,2))),np.asmatrix(np.random.randint(low=5,high=20,size=(2,4)))\n",
        "print(f\"Matrix 1: \\n{C}\\nMatrix 2 : \\n{D}\\n Matrix 1 X Matrix 2 : \\n {C@D}\")"
      ]
    },
    {
      "cell_type": "markdown",
      "source": [
        "**Q83. Create a matrix `E` and find its transpose**"
      ],
      "metadata": {
        "id": "tCg7Cve4po3W"
      },
      "id": "tCg7Cve4po3W"
    },
    {
      "cell_type": "code",
      "execution_count": 112,
      "id": "29acf53c-f20b-4951-9d54-7686762580fc",
      "metadata": {
        "colab": {
          "base_uri": "https://localhost:8080/"
        },
        "id": "29acf53c-f20b-4951-9d54-7686762580fc",
        "outputId": "395026ad-7c84-4874-cc05-17b75e7a72e6"
      },
      "outputs": [
        {
          "output_type": "stream",
          "name": "stdout",
          "text": [
            "Matrix : \n",
            "[[12 18 10]\n",
            " [13 12 16]\n",
            " [ 7 16 14]\n",
            " [ 6  8  7]]\n",
            " Transpose_of_Matrix : \n",
            "[[12 13  7  6]\n",
            " [18 12 16  8]\n",
            " [10 16 14  7]]\n"
          ]
        }
      ],
      "source": [
        "#Q83\n",
        "E=np.asmatrix(np.random.randint(low=5,high=20,size=(4,3)))\n",
        "print(f\"Matrix : \\n{E}\\n Transpose_of_Matrix : \\n{E.T}\")"
      ]
    },
    {
      "cell_type": "markdown",
      "source": [
        "**Q84. Generate a square matrix `F` and compute its determinant.**"
      ],
      "metadata": {
        "id": "_SbHx0TkpoXk"
      },
      "id": "_SbHx0TkpoXk"
    },
    {
      "cell_type": "code",
      "execution_count": 113,
      "id": "eba45abe-1065-4dd5-ab29-90bb2aa42822",
      "metadata": {
        "colab": {
          "base_uri": "https://localhost:8080/"
        },
        "id": "eba45abe-1065-4dd5-ab29-90bb2aa42822",
        "outputId": "1cc255cf-a05c-4f48-e9a4-f5cd02ea8298"
      },
      "outputs": [
        {
          "output_type": "stream",
          "name": "stdout",
          "text": [
            "Matrix : \n",
            "[[10 14 14]\n",
            " [ 8 11 12]\n",
            " [19 11 13]]\n",
            " Determinant_of_Matrix : \n",
            "152.0\n"
          ]
        }
      ],
      "source": [
        "#Q84\n",
        "F=np.asmatrix(np.random.randint(low=5,high=20,size=(3,3)))\n",
        "print(f\"Matrix : \\n{F}\\n Determinant_of_Matrix : \\n{na.det(F)}\")"
      ]
    },
    {
      "cell_type": "markdown",
      "source": [
        "**Q85. Create a square matrix `G` and find its inverse.**"
      ],
      "metadata": {
        "id": "l1KXRhbbpoAU"
      },
      "id": "l1KXRhbbpoAU"
    },
    {
      "cell_type": "code",
      "execution_count": 114,
      "id": "79dfe429-d2da-408d-a57d-231aa51354ef",
      "metadata": {
        "colab": {
          "base_uri": "https://localhost:8080/"
        },
        "id": "79dfe429-d2da-408d-a57d-231aa51354ef",
        "outputId": "2a41a05c-5a1f-43aa-a70c-e4b001ad4afe"
      },
      "outputs": [
        {
          "output_type": "stream",
          "name": "stdout",
          "text": [
            "Matrix : \n",
            "[[ 7 10 10]\n",
            " [10 11  7]\n",
            " [ 6  9  8]]\n",
            " Inverse_of_Matrix : \n",
            "[[ 0.71428571  0.28571429 -1.14285714]\n",
            " [-1.08571429 -0.11428571  1.45714286]\n",
            " [ 0.68571429 -0.08571429 -0.65714286]]\n"
          ]
        }
      ],
      "source": [
        "#Q85\n",
        "G=np.matrix(np.random.randint(low=5,high=12,size=(3,3)))\n",
        "print(f\"Matrix : \\n{G}\\n Inverse_of_Matrix : \\n{na.inv(G)}\")"
      ]
    }
  ],
  "metadata": {
    "kernelspec": {
      "display_name": "Python 3 (ipykernel)",
      "language": "python",
      "name": "python3"
    },
    "language_info": {
      "codemirror_mode": {
        "name": "ipython",
        "version": 3
      },
      "file_extension": ".py",
      "mimetype": "text/x-python",
      "name": "python",
      "nbconvert_exporter": "python",
      "pygments_lexer": "ipython3",
      "version": "3.12.2"
    },
    "colab": {
      "provenance": []
    }
  },
  "nbformat": 4,
  "nbformat_minor": 5
}